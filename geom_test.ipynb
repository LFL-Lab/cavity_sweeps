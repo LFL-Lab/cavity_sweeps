{
 "cells": [
  {
   "cell_type": "code",
   "execution_count": 1,
   "metadata": {},
   "outputs": [],
   "source": [
    "%load_ext autoreload\n",
    "%autoreload 2"
   ]
  },
  {
   "cell_type": "code",
   "execution_count": 2,
   "metadata": {},
   "outputs": [],
   "source": [
    "import qiskit_metal as metal\n",
    "from qiskit_metal import designs, draw\n",
    "from qiskit_metal import MetalGUI, Dict\n",
    "from qiskit_metal.designs.design_multiplanar import MultiPlanar\n",
    "\n",
    "from qiskit_metal.qlibrary.qubits.transmon_cross import TransmonCross\n",
    "from qiskit_metal.qlibrary.couplers.coupled_line_tee import CoupledLineTee\n",
    "from qiskit_metal.qlibrary.tlines.meandered import RouteMeander\n",
    "from qiskit_metal.qlibrary.core import QRoute, QRoutePoint\n",
    "from qiskit_metal.qlibrary.couplers.cap_n_interdigital_tee import CapNInterdigitalTee\n",
    "from qiskit_metal.qlibrary.core import QComponent\n",
    "\n",
    "\n",
    "# design = designs.DesignPlanar()\n",
    "design = MultiPlanar(metadata={},\n",
    "                     overwrite_enabled=True)\n",
    "gui = MetalGUI(design)\n",
    "\n",
    "design.overwrite_enabled = True"
   ]
  },
  {
   "cell_type": "code",
   "execution_count": 3,
   "metadata": {},
   "outputs": [],
   "source": [
    "xmon_options = dict(\n",
    "    connection_pads=dict(\n",
    "        readout = dict(connector_location = '90', \n",
    "                 connector_type = '0', \n",
    "                 claw_length = '215um',\n",
    "                 ground_spacing = '10um', \n",
    "                 claw_gap = '5.1um', \n",
    "                 claw_width = '15um'),\n",
    "    ),\n",
    "    cross_width = '30um',\n",
    "    cross_length = '240um',\n",
    "    cross_gap = '30um',\n",
    "    orientation = -90,\n",
    "    pos_x = \"-1500um\",\n",
    "    aedt_hfss_inductance = 9.686E-9\n",
    ")\n",
    "\n",
    "clt_opts = Dict(prime_width = '10um',\n",
    "                prime_gap = '5.1um',\n",
    "                second_width = '10um',\n",
    "                second_gap = '5.1um',\n",
    "                coupling_space = '7.9um',\n",
    "                coupling_length = '500um',\n",
    "                open_termination = False,\n",
    "                down_length = '50um',\n",
    "                orientation = -90)\n"
   ]
  },
  {
   "cell_type": "code",
   "execution_count": 4,
   "metadata": {},
   "outputs": [],
   "source": [
    "from utils import *\n",
    "from objects import *\n",
    "from sweeper_helperfunctions import *"
   ]
  },
  {
   "cell_type": "code",
   "execution_count": 5,
   "metadata": {},
   "outputs": [
    {
     "name": "stderr",
     "output_type": "stream",
     "text": [
      "INFO 11:17PM [connect_project]: Connecting to Ansys Desktop API...\n",
      "INFO 11:17PM [load_ansys_project]: \tOpened Ansys App\n",
      "INFO 11:17PM [load_ansys_project]: \tOpened Ansys Desktop v2021.1.0\n",
      "INFO 11:17PM [load_ansys_project]: \tOpened Ansys Project\n",
      "\tFolder:    D:/Users/lfl/Documents/Ansoft/\n",
      "\tProject:   fig4_39x_150khz_Glinda\n"
     ]
    },
    {
     "name": "stdout",
     "output_type": "stream",
     "text": [
      "Starting the Simulation\n"
     ]
    },
    {
     "name": "stderr",
     "output_type": "stream",
     "text": [
      "INFO 11:17PM [connect_design]: \tOpened active design\n",
      "\tDesign:    CLT__claw70um_GLINDATEST_07122023_23.16.03_hfss [Solution type: Eigenmode]\n",
      "INFO 11:17PM [get_setup]: \tOpened setup `Setup`  (<class 'pyEPR.ansys.HfssEMSetup'>)\n",
      "INFO 11:17PM [connect]: \tConnected to project \"fig4_39x_150khz_Glinda\" and design \"CLT__claw70um_GLINDATEST_07122023_23.16.03_hfss\" 😀 \n",
      "\n",
      "INFO 11:17PM [connect_design]: \tOpened active design\n",
      "\tDesign:    CLT__claw250um_GLINDATEST_07122023_23.17.26 [Solution type: Eigenmode]\n",
      "WARNING 11:17PM [connect_setup]: \tNo design setup detected.\n",
      "WARNING 11:17PM [connect_setup]: \tCreating eigenmode default setup.\n",
      "INFO 11:17PM [get_setup]: \tOpened setup `Setup`  (<class 'pyEPR.ansys.HfssEMSetup'>)\n",
      "INFO 11:17PM [connect_design]: \tOpened active design\n",
      "\tDesign:    CLT__claw250um_GLINDATEST_07122023_23.17.26_hfss [Solution type: Eigenmode]\n",
      "WARNING 11:17PM [connect_setup]: \tNo design setup detected.\n",
      "WARNING 11:17PM [connect_setup]: \tCreating eigenmode default setup.\n",
      "INFO 11:17PM [get_setup]: \tOpened setup `Setup`  (<class 'pyEPR.ansys.HfssEMSetup'>)\n"
     ]
    },
    {
     "ename": "com_error",
     "evalue": "(-2147352567, 'Exception occurred.', (0, None, None, None, 0, -2147024381), None)",
     "output_type": "error",
     "traceback": [
      "\u001b[1;31m---------------------------------------------------------------------------\u001b[0m",
      "\u001b[1;31mcom_error\u001b[0m                                 Traceback (most recent call last)",
      "Cell \u001b[1;32mIn[5], line 57\u001b[0m\n\u001b[0;32m     42\u001b[0m \u001b[39m# cpw_opts = Dict(\u001b[39;00m\n\u001b[0;32m     43\u001b[0m \u001b[39m#                 lead = Dict(\u001b[39;00m\n\u001b[0;32m     44\u001b[0m \u001b[39m#                     # start_straight = '5',\u001b[39;00m\n\u001b[1;32m   (...)\u001b[0m\n\u001b[0;32m     54\u001b[0m \u001b[39m#                 trace_gap = '5.1um',\u001b[39;00m\n\u001b[0;32m     55\u001b[0m \u001b[39m# )\u001b[39;00m\n\u001b[0;32m     56\u001b[0m sweep_opts \u001b[39m=\u001b[39m Dict(claw_opts \u001b[39m=\u001b[39m claw_sweep_opts, cpw_opts \u001b[39m=\u001b[39m cpw_sweep_opts, cplr_opts \u001b[39m=\u001b[39m cplr_sweep_opts)\n\u001b[1;32m---> 57\u001b[0m CLT_epr_sweep(design, sweep_opts \u001b[39m=\u001b[39;49m sweep_opts, comp_name\u001b[39m=\u001b[39;49m\u001b[39m\"\u001b[39;49m\u001b[39mGLINDATEST\u001b[39;49m\u001b[39m\"\u001b[39;49m)\n",
      "File \u001b[1;32md:\\andre\\cavity_sweeps\\objects.py:42\u001b[0m, in \u001b[0;36mCLT_epr_sweep\u001b[1;34m(design, sweep_opts, comp_name)\u001b[0m\n\u001b[0;32m     39\u001b[0m setup \u001b[39m=\u001b[39m set_simulation_hyperparameters(epra, config)\n\u001b[0;32m     40\u001b[0m epra\u001b[39m.\u001b[39msim\u001b[39m.\u001b[39mrenderer\u001b[39m.\u001b[39moptions\u001b[39m.\u001b[39mmax_mesh_length_port \u001b[39m=\u001b[39m \u001b[39m'\u001b[39m\u001b[39m7um\u001b[39m\u001b[39m'\u001b[39m\n\u001b[1;32m---> 42\u001b[0m render_simulation_with_ports(epra, config\u001b[39m.\u001b[39;49mdesign_name, setup\u001b[39m.\u001b[39;49mvars, coupler)\n\u001b[0;32m     43\u001b[0m modeler \u001b[39m=\u001b[39m hfss\u001b[39m.\u001b[39mpinfo\u001b[39m.\u001b[39mdesign\u001b[39m.\u001b[39mmodeler\n\u001b[0;32m     45\u001b[0m mesh_lengths \u001b[39m=\u001b[39m {\u001b[39m'\u001b[39m\u001b[39mmesh1\u001b[39m\u001b[39m'\u001b[39m: {\u001b[39m\"\u001b[39m\u001b[39mobjects\u001b[39m\u001b[39m\"\u001b[39m: [\u001b[39mf\u001b[39m\u001b[39m\"\u001b[39m\u001b[39mprime_cpw_\u001b[39m\u001b[39m{\u001b[39;00mcoupler\u001b[39m.\u001b[39mname\u001b[39m}\u001b[39;00m\u001b[39m\"\u001b[39m, \u001b[39mf\u001b[39m\u001b[39m\"\u001b[39m\u001b[39msecond_cpw_\u001b[39m\u001b[39m{\u001b[39;00mcoupler\u001b[39m.\u001b[39mname\u001b[39m}\u001b[39;00m\u001b[39m\"\u001b[39m, \u001b[39mf\u001b[39m\u001b[39m\"\u001b[39m\u001b[39mtrace_\u001b[39m\u001b[39m{\u001b[39;00mcpw\u001b[39m.\u001b[39mname\u001b[39m}\u001b[39;00m\u001b[39m\"\u001b[39m, \u001b[39mf\u001b[39m\u001b[39m\"\u001b[39m\u001b[39mreadout_connector_arm_\u001b[39m\u001b[39m{\u001b[39;00mclaw\u001b[39m.\u001b[39mname\u001b[39m}\u001b[39;00m\u001b[39m\"\u001b[39m], \u001b[39m\"\u001b[39m\u001b[39mMaxLength\u001b[39m\u001b[39m\"\u001b[39m: \u001b[39m'\u001b[39m\u001b[39m7um\u001b[39m\u001b[39m'\u001b[39m}}\n",
      "File \u001b[1;32md:\\andre\\cavity_sweeps\\objects.py:206\u001b[0m, in \u001b[0;36mrender_simulation_with_ports\u001b[1;34m(epra, ansys_design_name, setup_vars, coupler)\u001b[0m\n\u001b[0;32m    197\u001b[0m \u001b[39mdef\u001b[39;00m \u001b[39mrender_simulation_with_ports\u001b[39m(epra, ansys_design_name, setup_vars, coupler):\n\u001b[0;32m    198\u001b[0m \u001b[39m    \u001b[39m\u001b[39m\"\"\"\u001b[39;00m\n\u001b[0;32m    199\u001b[0m \u001b[39m    Renders the simulation into HFSS.\u001b[39;00m\n\u001b[0;32m    200\u001b[0m \n\u001b[1;32m   (...)\u001b[0m\n\u001b[0;32m    204\u001b[0m \u001b[39m    :param coupler: The coupler object.\u001b[39;00m\n\u001b[0;32m    205\u001b[0m \u001b[39m    \"\"\"\u001b[39;00m\n\u001b[1;32m--> 206\u001b[0m     epra\u001b[39m.\u001b[39;49msim\u001b[39m.\u001b[39;49m_render(name\u001b[39m=\u001b[39;49mansys_design_name,\n\u001b[0;32m    207\u001b[0m                      solution_type\u001b[39m=\u001b[39;49m\u001b[39m'\u001b[39;49m\u001b[39meigenmode\u001b[39;49m\u001b[39m'\u001b[39;49m,\n\u001b[0;32m    208\u001b[0m                      vars_to_initialize\u001b[39m=\u001b[39;49msetup_vars,\n\u001b[0;32m    209\u001b[0m                      open_pins\u001b[39m=\u001b[39;49m[(coupler\u001b[39m.\u001b[39;49mname, \u001b[39m\"\u001b[39;49m\u001b[39mprime_start\u001b[39;49m\u001b[39m\"\u001b[39;49m), (coupler\u001b[39m.\u001b[39;49mname, \u001b[39m\"\u001b[39;49m\u001b[39mprime_end\u001b[39;49m\u001b[39m\"\u001b[39;49m)],\n\u001b[0;32m    210\u001b[0m                      port_list\u001b[39m=\u001b[39;49m[(coupler\u001b[39m.\u001b[39;49mname, \u001b[39m'\u001b[39;49m\u001b[39mprime_start\u001b[39;49m\u001b[39m'\u001b[39;49m, \u001b[39m50\u001b[39;49m), (coupler\u001b[39m.\u001b[39;49mname, \u001b[39m\"\u001b[39;49m\u001b[39mprime_end\u001b[39;49m\u001b[39m\"\u001b[39;49m, \u001b[39m50\u001b[39;49m)],\n\u001b[0;32m    211\u001b[0m                      box_plus_buffer\u001b[39m=\u001b[39;49m\u001b[39mTrue\u001b[39;49;00m)\n\u001b[0;32m    212\u001b[0m     \u001b[39mprint\u001b[39m(\u001b[39m\"\u001b[39m\u001b[39mSim rendered into HFSS!\u001b[39m\u001b[39m\"\u001b[39m)\n",
      "File \u001b[1;32mc:\\users\\lfl\\qiskit-metal\\qiskit_metal\\analyses\\core\\simulation.py:167\u001b[0m, in \u001b[0;36mQSimulation._render\u001b[1;34m(self, solution_type, vars_to_initialize, **design_selection)\u001b[0m\n\u001b[0;32m    165\u001b[0m     \u001b[39mdel\u001b[39;00m design_selection[\u001b[39m\"\u001b[39m\u001b[39mname\u001b[39m\u001b[39m\"\u001b[39m]\n\u001b[0;32m    166\u001b[0m design_name \u001b[39m=\u001b[39m base_name \u001b[39m+\u001b[39m \u001b[39m\"\u001b[39m\u001b[39m_\u001b[39m\u001b[39m\"\u001b[39m \u001b[39m+\u001b[39m \u001b[39mself\u001b[39m\u001b[39m.\u001b[39mrenderer_name\n\u001b[1;32m--> 167\u001b[0m design_name \u001b[39m=\u001b[39m \u001b[39mself\u001b[39;49m\u001b[39m.\u001b[39;49mrenderer\u001b[39m.\u001b[39;49mexecute_design(\n\u001b[0;32m    168\u001b[0m     design_name,\n\u001b[0;32m    169\u001b[0m     solution_type\u001b[39m=\u001b[39;49msolution_type,\n\u001b[0;32m    170\u001b[0m     force_redraw\u001b[39m=\u001b[39;49m\u001b[39mself\u001b[39;49m\u001b[39m.\u001b[39;49msetup\u001b[39m.\u001b[39;49mreuse_selected_design,\n\u001b[0;32m    171\u001b[0m     vars_to_initialize\u001b[39m=\u001b[39;49mvars_to_initialize,\n\u001b[0;32m    172\u001b[0m     \u001b[39m*\u001b[39;49m\u001b[39m*\u001b[39;49mdesign_selection)\n\u001b[0;32m    173\u001b[0m \u001b[39mreturn\u001b[39;00m design_name\n",
      "File \u001b[1;32mc:\\users\\lfl\\qiskit-metal\\qiskit_metal\\renderers\\renderer_ansys\\ansys_renderer.py:756\u001b[0m, in \u001b[0;36mQAnsysRenderer.execute_design\u001b[1;34m(self, design_name, solution_type, vars_to_initialize, force_redraw, **design_selection)\u001b[0m\n\u001b[0;32m    753\u001b[0m     \u001b[39mself\u001b[39m\u001b[39m.\u001b[39mnew_ansys_design(design_name, solution_type)\n\u001b[0;32m    755\u001b[0m \u001b[39mself\u001b[39m\u001b[39m.\u001b[39mset_variables(vars_to_initialize)\n\u001b[1;32m--> 756\u001b[0m \u001b[39mself\u001b[39;49m\u001b[39m.\u001b[39;49mrender_design(\u001b[39m*\u001b[39;49m\u001b[39m*\u001b[39;49mdesign_selection)\n\u001b[0;32m    757\u001b[0m \u001b[39mreturn\u001b[39;00m \u001b[39mself\u001b[39m\u001b[39m.\u001b[39mpinfo\u001b[39m.\u001b[39mdesign\u001b[39m.\u001b[39mname\n",
      "File \u001b[1;32mc:\\users\\lfl\\qiskit-metal\\qiskit_metal\\renderers\\renderer_ansys\\hfss_renderer.py:182\u001b[0m, in \u001b[0;36mQHFSSRenderer.render_design\u001b[1;34m(self, selection, open_pins, port_list, jj_to_port, ignored_jjs, box_plus_buffer)\u001b[0m\n\u001b[0;32m    179\u001b[0m \u001b[39mif\u001b[39;00m ignored_jjs:\n\u001b[0;32m    180\u001b[0m     \u001b[39mself\u001b[39m\u001b[39m.\u001b[39mjj_to_ignore \u001b[39m=\u001b[39m {(qcomp, qelt) \u001b[39mfor\u001b[39;00m qcomp, qelt \u001b[39min\u001b[39;00m ignored_jjs}\n\u001b[1;32m--> 182\u001b[0m \u001b[39mself\u001b[39;49m\u001b[39m.\u001b[39;49mrender_tables()\n\u001b[0;32m    183\u001b[0m \u001b[39mif\u001b[39;00m port_list:\n\u001b[0;32m    184\u001b[0m     \u001b[39mself\u001b[39m\u001b[39m.\u001b[39madd_endcaps(open_pins \u001b[39m+\u001b[39m\n\u001b[0;32m    185\u001b[0m                      [(qcomp, pin) \u001b[39mfor\u001b[39;00m qcomp, pin, _ \u001b[39min\u001b[39;00m port_list])\n",
      "File \u001b[1;32mc:\\users\\lfl\\qiskit-metal\\qiskit_metal\\renderers\\renderer_ansys\\ansys_renderer.py:1052\u001b[0m, in \u001b[0;36mQAnsysRenderer.render_tables\u001b[1;34m(self, skip_junction)\u001b[0m\n\u001b[0;32m   1050\u001b[0m \u001b[39mfor\u001b[39;00m table_type \u001b[39min\u001b[39;00m \u001b[39mself\u001b[39m\u001b[39m.\u001b[39mdesign\u001b[39m.\u001b[39mqgeometry\u001b[39m.\u001b[39mget_element_types():\n\u001b[0;32m   1051\u001b[0m     \u001b[39mif\u001b[39;00m table_type \u001b[39m!=\u001b[39m \u001b[39m\"\u001b[39m\u001b[39mjunction\u001b[39m\u001b[39m\"\u001b[39m \u001b[39mor\u001b[39;00m \u001b[39mnot\u001b[39;00m skip_junction:\n\u001b[1;32m-> 1052\u001b[0m         \u001b[39mself\u001b[39;49m\u001b[39m.\u001b[39;49mrender_components(table_type)\n",
      "File \u001b[1;32mc:\\users\\lfl\\qiskit-metal\\qiskit_metal\\renderers\\renderer_ansys\\ansys_renderer.py:1068\u001b[0m, in \u001b[0;36mQAnsysRenderer.render_components\u001b[1;34m(self, table_type)\u001b[0m\n\u001b[0;32m   1065\u001b[0m     table \u001b[39m=\u001b[39m table[mask]\n\u001b[0;32m   1067\u001b[0m \u001b[39mfor\u001b[39;00m _, qgeom \u001b[39min\u001b[39;00m table\u001b[39m.\u001b[39miterrows():\n\u001b[1;32m-> 1068\u001b[0m     \u001b[39mself\u001b[39;49m\u001b[39m.\u001b[39;49mrender_element(qgeom, \u001b[39mbool\u001b[39;49m(table_type \u001b[39m==\u001b[39;49m \u001b[39m\"\u001b[39;49m\u001b[39mjunction\u001b[39;49m\u001b[39m\"\u001b[39;49m))\n\u001b[0;32m   1070\u001b[0m \u001b[39mif\u001b[39;00m table_type \u001b[39m==\u001b[39m \u001b[39m\"\u001b[39m\u001b[39mpath\u001b[39m\u001b[39m\"\u001b[39m:\n\u001b[0;32m   1071\u001b[0m     \u001b[39mself\u001b[39m\u001b[39m.\u001b[39mauto_wirebonds(table)\n",
      "File \u001b[1;32mc:\\users\\lfl\\qiskit-metal\\qiskit_metal\\renderers\\renderer_ansys\\ansys_renderer.py:1090\u001b[0m, in \u001b[0;36mQAnsysRenderer.render_element\u001b[1;34m(self, qgeom, is_junction)\u001b[0m\n\u001b[0;32m   1088\u001b[0m     \u001b[39mself\u001b[39m\u001b[39m.\u001b[39mrender_element_poly(qgeom)\n\u001b[0;32m   1089\u001b[0m \u001b[39melif\u001b[39;00m \u001b[39misinstance\u001b[39m(qc_shapely, shapely\u001b[39m.\u001b[39mgeometry\u001b[39m.\u001b[39mLineString):\n\u001b[1;32m-> 1090\u001b[0m     \u001b[39mself\u001b[39;49m\u001b[39m.\u001b[39;49mrender_element_path(qgeom)\n",
      "File \u001b[1;32mc:\\users\\lfl\\qiskit-metal\\qiskit_metal\\renderers\\renderer_ansys\\ansys_renderer.py:1245\u001b[0m, in \u001b[0;36mQAnsysRenderer.render_element_path\u001b[1;34m(self, qgeom)\u001b[0m\n\u001b[0;32m   1242\u001b[0m points_3d \u001b[39m=\u001b[39m to_vec3D(points, qc_chip_z)\n\u001b[0;32m   1244\u001b[0m \u001b[39mtry\u001b[39;00m:\n\u001b[1;32m-> 1245\u001b[0m     poly_ansys \u001b[39m=\u001b[39m \u001b[39mself\u001b[39;49m\u001b[39m.\u001b[39;49mmodeler\u001b[39m.\u001b[39;49mdraw_polyline(points_3d,\n\u001b[0;32m   1246\u001b[0m                                             closed\u001b[39m=\u001b[39;49m\u001b[39mFalse\u001b[39;49;00m,\n\u001b[0;32m   1247\u001b[0m                                             \u001b[39m*\u001b[39;49m\u001b[39m*\u001b[39;49mansys_options)\n\u001b[0;32m   1248\u001b[0m \u001b[39mexcept\u001b[39;00m \u001b[39mAttributeError\u001b[39;00m:\n\u001b[0;32m   1249\u001b[0m     \u001b[39mif\u001b[39;00m \u001b[39mself\u001b[39m\u001b[39m.\u001b[39mmodeler \u001b[39mis\u001b[39;00m \u001b[39mNone\u001b[39;00m:\n",
      "File \u001b[1;32mc:\\Users\\lfl\\AppData\\Local\\miniconda3\\envs\\qiskit_metal\\Lib\\site-packages\\pyEPR\\ansys.py:2238\u001b[0m, in \u001b[0;36mHfssModeler.draw_polyline\u001b[1;34m(self, points, closed, **kwargs)\u001b[0m\n\u001b[0;32m   2233\u001b[0m     indexsStr \u001b[39m=\u001b[39m indexsStr[:\u001b[39m-\u001b[39m\u001b[39m1\u001b[39m]\n\u001b[0;32m   2234\u001b[0m     params_closed \u001b[39m=\u001b[39m [\n\u001b[0;32m   2235\u001b[0m         \u001b[39m\"\u001b[39m\u001b[39mIsPolylineCovered:=\u001b[39m\u001b[39m\"\u001b[39m, \u001b[39mTrue\u001b[39;00m, \u001b[39m\"\u001b[39m\u001b[39mIsPolylineClosed:=\u001b[39m\u001b[39m\"\u001b[39m, \u001b[39mFalse\u001b[39;00m\n\u001b[0;32m   2236\u001b[0m     ]\n\u001b[1;32m-> 2238\u001b[0m name \u001b[39m=\u001b[39m \u001b[39mself\u001b[39;49m\u001b[39m.\u001b[39;49m_modeler\u001b[39m.\u001b[39;49mCreatePolyline(\n\u001b[0;32m   2239\u001b[0m     [\u001b[39m\"\u001b[39;49m\u001b[39mNAME:PolylineParameters\u001b[39;49m\u001b[39m\"\u001b[39;49m, \u001b[39m*\u001b[39;49mparams_closed, pointsStr, indexsStr],\n\u001b[0;32m   2240\u001b[0m     \u001b[39mself\u001b[39;49m\u001b[39m.\u001b[39;49m_attributes_array(\u001b[39m*\u001b[39;49m\u001b[39m*\u001b[39;49mkwargs))\n\u001b[0;32m   2242\u001b[0m \u001b[39mif\u001b[39;00m closed:\n\u001b[0;32m   2243\u001b[0m     \u001b[39mreturn\u001b[39;00m Polyline(name, \u001b[39mself\u001b[39m, points)\n",
      "File \u001b[1;32m<COMObject SetActiveEditor>:3\u001b[0m, in \u001b[0;36mCreatePolyline\u001b[1;34m(self, argParamters, argAttributes)\u001b[0m\n",
      "\u001b[1;31mcom_error\u001b[0m: (-2147352567, 'Exception occurred.', (0, None, None, None, 0, -2147024381), None)"
     ]
    }
   ],
   "source": [
    "for i in range(5):\n",
    "    # if i != 1:\n",
    "    #     continue\n",
    "    jogs = OrderedDict()\n",
    "    # jogs[0] = []\n",
    "    jogs[0] = [\"R90\", f'{i*50}um']\n",
    "    claw_sweep_opts = dict(\n",
    "        connection_pads=dict(\n",
    "            readout = dict(connector_location = '90', \n",
    "                    connector_type = '0', \n",
    "                    claw_length = \"250um\",\n",
    "                    ground_spacing = '4.1um', \n",
    "                    claw_gap = '5.1um', \n",
    "                    claw_width = '15um',\n",
    "                    claw_cpw_width = \"11.7um\",\n",
    "                    claw_cpw_length = '0um'\n",
    "                    ),\n",
    "        ),\n",
    "        cross_width = '30um', # does not matter\n",
    "        cross_length = '240um',  # does not matter\n",
    "        cross_gap = '30um',  # does not matter\n",
    "    )\n",
    "\n",
    "    cplr_sweep_opts = Dict(prime_width = \"11.7um\",\n",
    "            prime_gap = '5.1um',\n",
    "            second_width = \"11.7um\",\n",
    "            second_gap = '5.1um',\n",
    "            coupling_space = '7.9um',\n",
    "            coupling_length = '500um',\n",
    "            open_termination = False,\n",
    "            down_length = '50um')\n",
    "    \n",
    "    cpw_sweep_opts = Dict(\n",
    "                fillet = '49.9um',\n",
    "                total_length = \"4400um\",\n",
    "                trace_width = \"11.7um\",\n",
    "                trace_gap = '5.1um',\n",
    "                meander = Dict(spacing = '100um',\n",
    "                                # asymmetry = f'{-i*25}um'\n",
    "                                ),\n",
    "            )\n",
    "    # cpw_opts = Dict(\n",
    "    #                 lead = Dict(\n",
    "    #                     # start_straight = '5',\n",
    "    #                     # end_straight = '70um',\n",
    "    #                     # start_jogged_extension = jogs\n",
    "    #                 ),\n",
    "    #                 fillet = '49.9um',\n",
    "    #                 total_length = '3400um',#'3893.8166um', # '6776um',\n",
    "    #                 trace_width = '10um',\n",
    "    #                 meander = Dict(spacing = '100um',\n",
    "    #                             # asymmetry = f'{-i*25}um'\n",
    "    #                             ),\n",
    "    #                 trace_gap = '5.1um',\n",
    "    # )\n",
    "    sweep_opts = Dict(claw_opts = claw_sweep_opts, cpw_opts = cpw_sweep_opts, cplr_opts = cplr_sweep_opts)\n",
    "    CLT_epr_sweep(design, sweep_opts = sweep_opts, comp_name=\"GLINDATEST\")"
   ]
  }
 ],
 "metadata": {
  "kernelspec": {
   "display_name": "Python 3",
   "language": "python",
   "name": "python3"
  },
  "language_info": {
   "codemirror_mode": {
    "name": "ipython",
    "version": 3
   },
   "file_extension": ".py",
   "mimetype": "text/x-python",
   "name": "python",
   "nbconvert_exporter": "python",
   "pygments_lexer": "ipython3",
   "version": "3.11.3"
  },
  "orig_nbformat": 4
 },
 "nbformat": 4,
 "nbformat_minor": 2
}
