{
 "cells": [
  {
   "cell_type": "code",
   "execution_count": 1,
   "metadata": {},
   "outputs": [],
   "source": [
    "%load_ext autoreload\n",
    "%autoreload 2"
   ]
  },
  {
   "cell_type": "markdown",
   "metadata": {},
   "source": [
    "### Imports"
   ]
  },
  {
   "cell_type": "code",
   "execution_count": 2,
   "metadata": {},
   "outputs": [],
   "source": [
    "from qiskit_metal import draw, Dict, designs, MetalGUI\n",
    "from qiskit_metal.toolbox_metal import math_and_overrides\n",
    "from qiskit_metal.qlibrary.core import QComponent\n",
    "import qiskit_metal as metal\n",
    "from just_claw import TransmonClaw\n",
    "from qiskit_metal.qlibrary.terminations.launchpad_wb import LaunchpadWirebond\n",
    "from qiskit_metal.qlibrary.terminations.short_to_ground import ShortToGround\n",
    "from qiskit_metal.qlibrary.tlines.straight_path import RouteStraight\n",
    "from qiskit_metal.qlibrary.tlines.anchored_path import RouteAnchors\n",
    "from qiskit_metal.qlibrary.tlines.mixed_path import RouteMixed\n",
    "from qiskit_metal.qlibrary.qubits.transmon_cross import TransmonCross\n",
    "from qiskit_metal.qlibrary.tlines.meandered import RouteMeander\n",
    "from qiskit_metal.qlibrary.terminations.open_to_ground import OpenToGround\n",
    "from qiskit_metal.qlibrary.couplers.coupled_line_tee import CoupledLineTee\n",
    "from qiskit_metal.qlibrary.couplers.cap_n_interdigital_tee import CapNInterdigitalTee\n",
    "from qiskit_metal.qlibrary.couplers.line_tee import LineTee\n",
    "\n",
    "from collections import OrderedDict\n",
    "\n",
    "import numpy as np"
   ]
  },
  {
   "cell_type": "markdown",
   "metadata": {},
   "source": [
    "# Data Collection"
   ]
  },
  {
   "cell_type": "markdown",
   "metadata": {},
   "source": [
    "## WM1"
   ]
  },
  {
   "cell_type": "code",
   "execution_count": 3,
   "metadata": {},
   "outputs": [],
   "source": [
    "cpw1_opts = Dict(\n",
    "                lead = Dict(end_straight = '70um',\n",
    "                ),\n",
    "                fillet = '49.9um',\n",
    "                total_length = '3900um',\n",
    "                trace_width = \"11.7um\",\n",
    "                meander = Dict(spacing = '100um',\n",
    "                               asymmetry = '-150um'),\n",
    "                trace_gap = '5.1um',)\n",
    "\n",
    "cpw2_opts = Dict(\n",
    "                lead = Dict(end_straight = '70um',\n",
    "                ),\n",
    "                fillet = '49.9um',\n",
    "                total_length = '3700um',\n",
    "                trace_width = \"11.7um\",\n",
    "                meander = Dict(spacing = '100um',\n",
    "                               asymmetry = '-150um'),\n",
    "                trace_gap = '5.1um')\n",
    "\n",
    "cpw3_opts = Dict(\n",
    "                lead = Dict(start_straight = '100um',\n",
    "                            end_straight = '170um'),\n",
    "                fillet = '49.9um',\n",
    "                total_length = '8150um',\n",
    "                trace_width = \"11.7um\",\n",
    "                meander = Dict(spacing = '100um',\n",
    "                               asymmetry = '-150um'),\n",
    "                trace_gap = '5.1um')\n",
    "\n",
    "cpw4_opts = Dict(\n",
    "                lead = Dict(start_straight = '10um',\n",
    "                            end_straight = '70um'),\n",
    "                fillet = '49.9um',\n",
    "                total_length = '3550um',\n",
    "                trace_width = \"11.7um\",\n",
    "                meander = Dict(spacing = '100um',\n",
    "                               asymmetry = '-150um'),\n",
    "                trace_gap = '5.1um')\n",
    "\n",
    "cpw5_opts = Dict(\n",
    "                lead = Dict(start_straight = '100um'),\n",
    "                fillet = '49.9um',\n",
    "                total_length = '8025um',\n",
    "                trace_width = \"11.7um\",\n",
    "                meander = Dict(spacing = '100um',\n",
    "                               asymmetry = '-150um'),\n",
    "                trace_gap = '5.1um')\n",
    "\n",
    "cpw6_opts = Dict(\n",
    "                lead = Dict(start_straight = '100um',\n",
    "                            end_straight = '70um'),\n",
    "                fillet = '49.9um',\n",
    "                total_length = '8000um',\n",
    "                trace_width = \"11.7um\",\n",
    "                meander = Dict(spacing = '100um',\n",
    "                               asymmetry = '-150um'),\n",
    "                trace_gap = '5.1um')\n",
    "\n",
    "claw1_opts = dict(\n",
    "    connection_pads=dict(\n",
    "        readout = dict(connector_location = '90', \n",
    "                 connector_type = '0', \n",
    "                 claw_length = '215um',\n",
    "                 ground_spacing = '10um', \n",
    "                 claw_gap = '5.1um', \n",
    "                 claw_width = '15um',\n",
    "                 claw_cpw_width = \"11.7um\",\n",
    "                 claw_cpw_length = '0um'\n",
    "                 ),\n",
    "    ),\n",
    "    cross_width = '30um',\n",
    "    cross_length = '240um',\n",
    "    cross_gap = '30um',\n",
    "    orientation = '-90',\n",
    "    pos_x = '-1500um',\n",
    "    aedt_hfss_inductance = 9.686E-9\n",
    ")\n",
    "\n",
    "claw2_opts = dict(\n",
    "    connection_pads=dict(\n",
    "        readout = dict(connector_location = '90', \n",
    "                 connector_type = '0', \n",
    "                 claw_length = '215.9um',\n",
    "                 ground_spacing = '9.1um', \n",
    "                 claw_gap = '5.1um', \n",
    "                 claw_width = '15.9um',\n",
    "                 claw_cpw_width = \"11.7um\",\n",
    "                 claw_cpw_length = 0),\n",
    "    ),\n",
    "    cross_width = '30.9um',\n",
    "    cross_length = '240.9um',\n",
    "    cross_gap = '29.1um',\n",
    "    orientation = '90',\n",
    "    pos_x = '1500um',\n",
    "    aedt_hfss_inductance = 11.268E-9\n",
    ")\n",
    "\n",
    "claw3_opts = dict(\n",
    "    connection_pads=dict(\n",
    "        readout = dict(connector_location = '90', \n",
    "                 connector_type = '0', \n",
    "                 claw_length = '185.9um',\n",
    "                 ground_spacing = '4.1um', \n",
    "                 claw_gap = '5.1um', \n",
    "                 claw_width = '15.9um',\n",
    "                 claw_cpw_width = \"11.7um\",\n",
    "                 claw_cpw_length = 0),\n",
    "    ),\n",
    "    cross_width = '30.9um',\n",
    "    cross_length = '200.9um',\n",
    "    cross_gap = '29.1um',\n",
    "    orientation = '90',\n",
    "    pos_x = '2000.9um',\n",
    "    aedt_hfss_inductance = 10.471E-9\n",
    ")\n",
    "\n",
    "claw4_opts = dict(\n",
    "    connection_pads=dict(\n",
    "        readout = dict(connector_location = '90', \n",
    "                 connector_type = '0', \n",
    "                 claw_length = '215.9um',\n",
    "                 ground_spacing = '9.1um', \n",
    "                 claw_gap = '5.1um', \n",
    "                 claw_width = '15.9um',\n",
    "                 claw_cpw_width = \"11.7um\",\n",
    "                 claw_cpw_length = '0'),\n",
    "    ),\n",
    "    cross_width = '30.9um',\n",
    "    cross_length = '240.9um',\n",
    "    cross_gap = '29.1um',\n",
    "    orientation = '-90',\n",
    "    pos_x = '-1500um',\n",
    "    aedt_hfss_inductance = 13.816E-9\n",
    ")\n",
    "\n",
    "claw5_opts = dict(\n",
    "    connection_pads=dict(\n",
    "        readout = dict(connector_location = '90', \n",
    "                 connector_type = '0', \n",
    "                 claw_length = '185um',\n",
    "                 ground_spacing = '5um', \n",
    "                 claw_gap = '5.1um', \n",
    "                 claw_width = '10um',\n",
    "                 claw_cpw_width = \"11.7um\",\n",
    "                 claw_cpw_length = 0),\n",
    "    ),\n",
    "    cross_width = '30um',\n",
    "    cross_length = '200um',\n",
    "    cross_gap = '30um',\n",
    "    orientation = '-90',\n",
    "    pos_x = '-2000um',\n",
    "    aedt_hfss_inductance = 13.235E-9\n",
    ")\n",
    "\n",
    "claw6_opts = dict(\n",
    "    connection_pads=dict(\n",
    "        c = dict(connector_location = '90', \n",
    "                 connector_type = '0', \n",
    "                 claw_length = '200.9um',\n",
    "                 ground_spacing = '10.9um', \n",
    "                 claw_gap = '5.1um', \n",
    "                 claw_width = '10.9um',\n",
    "                 claw_cpw_width = \"11.7um\",\n",
    "                 claw_cpw_length = '0'),\n",
    "    ),\n",
    "    cross_width = '30.9um',\n",
    "    cross_length = '220.9um',\n",
    "    cross_gap = '29.1um',\n",
    "    orientation = '90',\n",
    "    pos_x = '2000um',\n",
    "    aedt_hfss_inductance = 12.679E-9\n",
    ")\n",
    "\n",
    "cplr1_opts = Dict(prime_width = \"11.7um\",\n",
    "                prime_gap = '5.1um',\n",
    "                second_width = \"11.7um\",\n",
    "                second_gap = '5.1um',\n",
    "                coupling_space = '7.9um',\n",
    "                coupling_length = '225um',\n",
    "                open_termination = False,\n",
    "                orientation = '-90',\n",
    "                down_length = '50um')\n",
    "\n",
    "cplr2_opts = Dict(prime_width = \"11.7um\",\n",
    "                prime_gap = '5.1um',\n",
    "                second_width = \"11.7um\",\n",
    "                second_gap = '5.1um',\n",
    "                coupling_space = '7.9um',\n",
    "                coupling_length = '225um',\n",
    "                open_termination = False,\n",
    "                orientation = '90',\n",
    "                down_length = '50um')\n",
    "\n",
    "cplr3_opts = Dict(orientation = '90',\n",
    "                  prime_width = \"11.7um\",\n",
    "                  prime_gap = '5.1um',\n",
    "                  second_width = \"11.7um\",\n",
    "                  second_gap = '5.1um',\n",
    "                  cap_gap = '4.1um',\n",
    "                  cap_width = '10.9um',\n",
    "                  cap_gap_ground = '5.1um',\n",
    "                  finger_length = '30.9um',\n",
    "                  finger_count = '10',\n",
    "                  cap_distance = '50.9um',)\n",
    "\n",
    "cplr4_opts = Dict(prime_width = \"11.7um\",\n",
    "                prime_gap = '5.1um',\n",
    "                second_width = \"11.7um\",\n",
    "                second_gap = '5.1um',\n",
    "                coupling_space = '7.9um',\n",
    "                coupling_length = '225um',\n",
    "                open_termination = False,\n",
    "                orientation = '-90',\n",
    "                down_length = '50um')\n",
    "\n",
    "cplr5_opts = Dict(orientation = '-90',\n",
    "                  prime_width = \"11.7um\",\n",
    "                  prime_gap = '5.1um',\n",
    "                  second_width = \"11.7um\",\n",
    "                  second_gap = '5.1um',\n",
    "                  cap_gap = '4.1um',\n",
    "                  cap_width = '10.9um',\n",
    "                  cap_gap_ground = '5.1um',\n",
    "                  finger_length = '30.9um',\n",
    "                  finger_count = '7',\n",
    "                  cap_distance = '50.9um',)\n",
    "\n",
    "cplr6_opts = Dict(orientation = '90',\n",
    "                  prime_width = \"11.7um\",\n",
    "                  prime_gap = '5.1um',\n",
    "                  second_width = \"11.7um\",\n",
    "                  second_gap = '5.1um',\n",
    "                  cap_gap = '4.1um',\n",
    "                  cap_width = '10.9um',\n",
    "                  cap_gap_ground = '5.1um',\n",
    "                  finger_length = '30.9um',\n",
    "                  finger_count = '4',\n",
    "                  cap_distance = '50.9um',\n",
    "                  )"
   ]
  },
  {
   "cell_type": "code",
   "execution_count": 4,
   "metadata": {},
   "outputs": [],
   "source": [
    "wm1 = {\n",
    "    \"cpw_opts\" : [cpw1_opts, cpw2_opts, cpw3_opts, cpw4_opts, cpw5_opts, cpw6_opts],\n",
    "    \"claw_opts\" : [claw1_opts, claw2_opts, claw3_opts, claw4_opts, claw5_opts, claw6_opts],\n",
    "    \"coupler_opts\" : [cplr1_opts, cplr2_opts, cplr3_opts, cplr4_opts, cplr5_opts, cplr6_opts],\n",
    "}"
   ]
  },
  {
   "cell_type": "markdown",
   "metadata": {},
   "source": [
    "## MUNINN"
   ]
  },
  {
   "cell_type": "code",
   "execution_count": 5,
   "metadata": {},
   "outputs": [],
   "source": [
    "cpw1_opts = Dict(chip='main',\n",
    "                        fillet='50um',\n",
    "                        total_length = '3.58mm',\n",
    "                        lead = dict(start_straight = '10um', end_straight = '10um',\n",
    "                                   ), trace_width = '10um', meander= dict(spacing='120um', asymmetry='-0.15'))\n",
    "\n",
    "cpw2_opts = Dict(chip='main',\n",
    "                        fillet='50um',\n",
    "                        total_length = '3.5mm',\n",
    "                        lead = dict(start_straight = '10um', end_straight = '10um',\n",
    "                                   ), trace_width = '10um', meander= dict(spacing='120um', asymmetry='-0.15'))\n",
    "\n",
    "cpw3_opts = Dict(chip='main',\n",
    "                        fillet='50um',\n",
    "                        total_length = '3.46mm',\n",
    "                        lead = dict(start_straight = '10um', end_straight = '10um',\n",
    "                                   ), trace_width = '10um', meander= dict(spacing='120um', asymmetry='-0.15'))\n",
    "\n",
    "claw1_opts = dict(chip='main', make_fl=False, cross_gap = '30um', cross_width = '30um', cross_length= '185um', \n",
    "    connection_pads=dict(\n",
    "        dl1 = dict(connector_location = '0', connector_type = '1', ground_spacing='30um'),\n",
    "        b1 = dict(connector_location = '180', connector_type = '0', claw_length = '115um', claw_width = '7um', claw_gap= '6um', ground_spacing='4um'),\n",
    "        r1 = dict(connector_location = '90', connector_type = '0', claw_length = '140um', claw_width = '10um', claw_gap= '6um', ground_spacing='10um'), \n",
    "    \n",
    "    ),\n",
    ")\n",
    "\n",
    "claw2_opts = dict(chip='main', make_fl=False, cross_gap = '30um', cross_width = '30um', cross_length= '205um', \n",
    "    connection_pads=dict(\n",
    "        #dl2 = dict( connector_location = '180', connector_type = '1', ground_spacing='120um'),\n",
    "        b2 = dict(connector_location = '-180', connector_type = '0', claw_length = '110um', claw_width = '7um', claw_gap= '6um', ground_spacing='4um'),\n",
    "        r2 = dict(connector_location = '90', connector_type = '0', claw_length = '135um', claw_width = '10um', claw_gap= '6um', ground_spacing='10um'), \n",
    "        b22 = dict(connector_location = '180', connector_type = '0', claw_length = '145um', claw_width = '7um', claw_gap= '6um', ground_spacing='4um'),\n",
    "    ),\n",
    ")\n",
    "\n",
    "claw3_opts = Dict(chip='main', make_fl=False, cross_gap = '30um', cross_width = '30um', cross_length= '195um', \n",
    "    connection_pads = dict(\n",
    "        #dl2 = dict( connector_location = '180', connector_type = '1'),\n",
    "        b3 = dict(connector_location = '-180', connector_type = '0', claw_length = '130um', claw_width = '7um', claw_gap= '6um'),\n",
    "        r3 = dict(connector_location = '90', connector_type = '0', claw_length = '110um', claw_width = '10um', claw_gap= '6um', ground_spacing='10um'), \n",
    "    \n",
    "    ),\n",
    ")\n",
    "\n",
    "cplr1_opts = Dict(coupling_length='200um', coupling_space='7um', down_length='30um', open_termination=False)\n",
    "cplr2_opts = Dict(coupling_length='200um', coupling_space='7um', down_length='30um', open_termination=False)\n",
    "cplr3_opts = Dict(coupling_length='200um', coupling_space='7um', down_length='30um', open_termination=False)"
   ]
  },
  {
   "cell_type": "code",
   "execution_count": 6,
   "metadata": {},
   "outputs": [],
   "source": [
    "muninn = {\n",
    "    \"cpw_opts\" : [cpw1_opts, cpw2_opts, cpw3_opts],\n",
    "    \"claw_opts\" : [claw1_opts, claw2_opts, claw3_opts],\n",
    "    \"coupler_opts\" : [cplr1_opts, cplr2_opts, cplr3_opts],\n",
    "}"
   ]
  },
  {
   "cell_type": "code",
   "execution_count": 7,
   "metadata": {},
   "outputs": [],
   "source": [
    "devices = {\n",
    "    \"wm1\" : wm1,\n",
    "    \"muninn\" : muninn\n",
    "}"
   ]
  },
  {
   "cell_type": "markdown",
   "metadata": {},
   "source": [
    "# Creating a Simulation Unit"
   ]
  },
  {
   "cell_type": "code",
   "execution_count": 8,
   "metadata": {},
   "outputs": [],
   "source": [
    "def create_claw(opts):\n",
    "    claw = TransmonClaw(design, 'claw', options=opts)\n",
    "    return claw\n",
    "\n",
    "def create_coupler(opts):\n",
    "    cplr = CapNInterdigitalTee(design, 'cplr', options = opts) if \"finger_count\" in opts.keys() else CoupledLineTee(design, 'cplr', options = opts)\n",
    "    return cplr\n",
    "\n",
    "def create_cpw(opts):\n",
    "    opts.update({\"pin_inputs\" : Dict(start_pin = Dict(component = 'cplr',\n",
    "                                                    pin = 'second_end'),\n",
    "                                   end_pin = Dict(component = 'claw',\n",
    "                                                  pin = 'readout'))})\n",
    "    cpw = RouteMeander(design, 'cpw', options = opts)\n",
    "    return cpw"
   ]
  },
  {
   "cell_type": "code",
   "execution_count": 9,
   "metadata": {},
   "outputs": [],
   "source": [
    "design = metal.designs.design_planar.DesignPlanar()\n",
    "gui = metal.MetalGUI(design)\n",
    "design.overwrite_enabled = True\n",
    "\n",
    "design._chips.main.size.size_x = '5mm'\n",
    "design._chips.main.size.size_y = '5mm'"
   ]
  },
  {
   "cell_type": "code",
   "execution_count": 10,
   "metadata": {},
   "outputs": [],
   "source": [
    "claw = create_claw(devices[\"wm1\"][\"claw_opts\"][0])\n",
    "coupler = create_coupler(devices[\"wm1\"][\"coupler_opts\"][0])\n",
    "cpw = create_cpw(devices[\"wm1\"][\"cpw_opts\"][0])\n",
    "gui.rebuild()\n",
    "gui.autoscale()"
   ]
  },
  {
   "cell_type": "markdown",
   "metadata": {},
   "source": [
    "# Simulation Engine"
   ]
  },
  {
   "cell_type": "markdown",
   "metadata": {},
   "source": [
    "## Dynamic Mesh Generation Around Couplers"
   ]
  },
  {
   "cell_type": "code",
   "execution_count": null,
   "metadata": {},
   "outputs": [],
   "source": [
    "import pandas as pd\n",
    "from shapely.geometry import LineString\n",
    "\n",
    "def get_bounding_box_from_df(df, component_id):\n",
    "    \"\"\"\n",
    "    Calculate the bounding box for a given component based on its LineStrings.\n",
    "\n",
    "    Parameters:\n",
    "    df (DataFrame): DataFrame containing the LineString geometry and component IDs.\n",
    "    component_id (int): The ID of the component for which to calculate the bounding box.\n",
    "\n",
    "    Returns:\n",
    "    dict: Bounding box as {'min_x': float, 'max_x': float, 'min_y': float, 'max_y': float}\n",
    "    \"\"\"\n",
    "    # Filter DataFrame for the given component_id\n",
    "    df_filtered = df[df['component'] == component_id]\n",
    "\n",
    "    # Initialize min and max values for x and y\n",
    "    min_x = float('inf')\n",
    "    max_x = float('-inf')\n",
    "    min_y = float('inf')\n",
    "    max_y = float('-inf')\n",
    "\n",
    "    # Extract LineStrings and update min and max values based on points in the LineStrings\n",
    "    for _, row in df_filtered.iterrows():\n",
    "        line_string = row['geometry']\n",
    "        if isinstance(line_string, LineString):\n",
    "            for x, y in line_string.coords:\n",
    "                min_x = min(min_x, x)\n",
    "                max_x = max(max_x, x)\n",
    "                min_y = min(min_y, y)\n",
    "                max_y = max(max_y, y)\n",
    "\n",
    "    # The bounding box\n",
    "    bounding_box = {\n",
    "        'min_x': min_x,\n",
    "        'max_x': max_x,\n",
    "        'min_y': min_y,\n",
    "        'max_y': max_y\n",
    "    }\n",
    "\n",
    "    return bounding_box\n",
    "\n"
   ]
  },
  {
   "cell_type": "code",
   "execution_count": 13,
   "metadata": {},
   "outputs": [
    {
     "data": {
      "text/html": [
       "<div>\n",
       "<style scoped>\n",
       "    .dataframe tbody tr th:only-of-type {\n",
       "        vertical-align: middle;\n",
       "    }\n",
       "\n",
       "    .dataframe tbody tr th {\n",
       "        vertical-align: top;\n",
       "    }\n",
       "\n",
       "    .dataframe thead th {\n",
       "        text-align: right;\n",
       "    }\n",
       "</style>\n",
       "<table border=\"1\" class=\"dataframe\">\n",
       "  <thead>\n",
       "    <tr style=\"text-align: right;\">\n",
       "      <th></th>\n",
       "      <th>component</th>\n",
       "      <th>name</th>\n",
       "      <th>geometry</th>\n",
       "      <th>layer</th>\n",
       "      <th>subtract</th>\n",
       "      <th>helper</th>\n",
       "      <th>chip</th>\n",
       "      <th>width</th>\n",
       "      <th>fillet</th>\n",
       "      <th>hfss_wire_bonds</th>\n",
       "      <th>q3d_wire_bonds</th>\n",
       "    </tr>\n",
       "  </thead>\n",
       "  <tbody>\n",
       "    <tr>\n",
       "      <th>0</th>\n",
       "      <td>2</td>\n",
       "      <td>prime_cpw</td>\n",
       "      <td>LINESTRING (0.00000 0.22500, 0.00000 -0.22500)</td>\n",
       "      <td>1</td>\n",
       "      <td>False</td>\n",
       "      <td>False</td>\n",
       "      <td>main</td>\n",
       "      <td>0.0117</td>\n",
       "      <td>NaN</td>\n",
       "      <td>False</td>\n",
       "      <td>False</td>\n",
       "    </tr>\n",
       "    <tr>\n",
       "      <th>1</th>\n",
       "      <td>2</td>\n",
       "      <td>prime_cpw_sub</td>\n",
       "      <td>LINESTRING (0.00000 0.22500, 0.00000 -0.22500)</td>\n",
       "      <td>1</td>\n",
       "      <td>True</td>\n",
       "      <td>False</td>\n",
       "      <td>main</td>\n",
       "      <td>0.0219</td>\n",
       "      <td>NaN</td>\n",
       "      <td>False</td>\n",
       "      <td>False</td>\n",
       "    </tr>\n",
       "    <tr>\n",
       "      <th>2</th>\n",
       "      <td>2</td>\n",
       "      <td>second_cpw</td>\n",
       "      <td>LINESTRING (-0.02980 0.11250, -0.02980 -0.1125...</td>\n",
       "      <td>1</td>\n",
       "      <td>False</td>\n",
       "      <td>False</td>\n",
       "      <td>main</td>\n",
       "      <td>0.0117</td>\n",
       "      <td>0.025</td>\n",
       "      <td>False</td>\n",
       "      <td>False</td>\n",
       "    </tr>\n",
       "    <tr>\n",
       "      <th>3</th>\n",
       "      <td>2</td>\n",
       "      <td>second_cpw_sub</td>\n",
       "      <td>LINESTRING (-0.02980 0.11250, -0.02980 -0.1125...</td>\n",
       "      <td>1</td>\n",
       "      <td>True</td>\n",
       "      <td>False</td>\n",
       "      <td>main</td>\n",
       "      <td>0.0219</td>\n",
       "      <td>0.025</td>\n",
       "      <td>False</td>\n",
       "      <td>False</td>\n",
       "    </tr>\n",
       "    <tr>\n",
       "      <th>4</th>\n",
       "      <td>3</td>\n",
       "      <td>trace</td>\n",
       "      <td>LINESTRING (-0.07980 -0.11250, -0.18565 -0.112...</td>\n",
       "      <td>1</td>\n",
       "      <td>False</td>\n",
       "      <td>False</td>\n",
       "      <td>main</td>\n",
       "      <td>0.0117</td>\n",
       "      <td>0.0499</td>\n",
       "      <td>False</td>\n",
       "      <td>False</td>\n",
       "    </tr>\n",
       "    <tr>\n",
       "      <th>5</th>\n",
       "      <td>3</td>\n",
       "      <td>cut</td>\n",
       "      <td>LINESTRING (-0.07980 -0.11250, -0.18565 -0.112...</td>\n",
       "      <td>1</td>\n",
       "      <td>True</td>\n",
       "      <td>False</td>\n",
       "      <td>main</td>\n",
       "      <td>0.0219</td>\n",
       "      <td>0.0499</td>\n",
       "      <td>False</td>\n",
       "      <td>False</td>\n",
       "    </tr>\n",
       "  </tbody>\n",
       "</table>\n",
       "</div>"
      ],
      "text/plain": [
       "  component            name  \\\n",
       "0         2       prime_cpw   \n",
       "1         2   prime_cpw_sub   \n",
       "2         2      second_cpw   \n",
       "3         2  second_cpw_sub   \n",
       "4         3           trace   \n",
       "5         3             cut   \n",
       "\n",
       "                                            geometry  layer  subtract  helper  \\\n",
       "0     LINESTRING (0.00000 0.22500, 0.00000 -0.22500)      1     False   False   \n",
       "1     LINESTRING (0.00000 0.22500, 0.00000 -0.22500)      1      True   False   \n",
       "2  LINESTRING (-0.02980 0.11250, -0.02980 -0.1125...      1     False   False   \n",
       "3  LINESTRING (-0.02980 0.11250, -0.02980 -0.1125...      1      True   False   \n",
       "4  LINESTRING (-0.07980 -0.11250, -0.18565 -0.112...      1     False   False   \n",
       "5  LINESTRING (-0.07980 -0.11250, -0.18565 -0.112...      1      True   False   \n",
       "\n",
       "   chip   width  fillet  hfss_wire_bonds  q3d_wire_bonds  \n",
       "0  main  0.0117     NaN            False           False  \n",
       "1  main  0.0219     NaN            False           False  \n",
       "2  main  0.0117   0.025            False           False  \n",
       "3  main  0.0219   0.025            False           False  \n",
       "4  main  0.0117  0.0499            False           False  \n",
       "5  main  0.0219  0.0499            False           False  "
      ]
     },
     "execution_count": 13,
     "metadata": {},
     "output_type": "execute_result"
    }
   ],
   "source": [
    "design.qgeometry.tables[\"path\"]"
   ]
  },
  {
   "cell_type": "code",
   "execution_count": 15,
   "metadata": {},
   "outputs": [],
   "source": [
    "df_path = design.qgeometry.tables[\"path\"]"
   ]
  },
  {
   "cell_type": "code",
   "execution_count": 16,
   "metadata": {},
   "outputs": [
    {
     "data": {
      "text/plain": [
       "{'min_x': -0.0798, 'max_x': 0.0, 'min_y': -0.225, 'max_y': 0.225}"
      ]
     },
     "execution_count": 16,
     "metadata": {},
     "output_type": "execute_result"
    }
   ],
   "source": [
    "bbox = get_bounding_box_from_df(df_path, coupler.id)\n",
    "bbox"
   ]
  },
  {
   "cell_type": "markdown",
   "metadata": {},
   "source": [
    "## Render into Ansys"
   ]
  },
  {
   "cell_type": "code",
   "execution_count": 18,
   "metadata": {},
   "outputs": [
    {
     "name": "stderr",
     "output_type": "stream",
     "text": [
      "INFO 03:34PM [connect_project]: Connecting to Ansys Desktop API...\n",
      "INFO 03:34PM [load_ansys_project]: \tOpened Ansys App\n",
      "INFO 03:34PM [load_ansys_project]: \tOpened Ansys Desktop v2021.1.0\n",
      "INFO 03:34PM [load_ansys_project]: \tOpened Ansys Project\n",
      "\tFolder:    D:/Users/lfl/Documents/HFSS/\n",
      "\tProject:   Project55\n",
      "INFO 03:34PM [connect_design]: \tOpened active design\n",
      "\tDesign:    HFSSMetalEigenmode [Solution type: Eigenmode]\n",
      "INFO 03:34PM [get_setup]: \tOpened setup `Setup`  (<class 'pyEPR.ansys.HfssEMSetup'>)\n",
      "INFO 03:34PM [connect]: \tConnected to project \"Project55\" and design \"HFSSMetalEigenmode\" 😀 \n",
      "\n"
     ]
    },
    {
     "data": {
      "text/plain": [
       "True"
      ]
     },
     "execution_count": 18,
     "metadata": {},
     "output_type": "execute_result"
    }
   ],
   "source": [
    "test_hfss = design.renderers.hfss\n",
    "test_hfss.start()"
   ]
  },
  {
   "cell_type": "code",
   "execution_count": 47,
   "metadata": {},
   "outputs": [
    {
     "name": "stderr",
     "output_type": "stream",
     "text": [
      "INFO 04:08PM [connect_design]: \tOpened active design\n",
      "\tDesign:    HFSSMetalEigenmode2 [Solution type: Eigenmode]\n",
      "WARNING 04:08PM [connect_setup]: \tNo design setup detected.\n",
      "WARNING 04:08PM [connect_setup]: \tCreating eigenmode default setup.\n",
      "INFO 04:08PM [get_setup]: \tOpened setup `Setup`  (<class 'pyEPR.ansys.HfssEMSetup'>)\n"
     ]
    },
    {
     "data": {
      "text/plain": [
       "'HFSSMetalEigenmode2'"
      ]
     },
     "execution_count": 47,
     "metadata": {},
     "output_type": "execute_result"
    }
   ],
   "source": [
    "ansys_design = test_hfss.new_ansys_design(\"HFSSMetalEigenmode\", 'eigenmode')\n",
    "ansys_design.name"
   ]
  },
  {
   "cell_type": "code",
   "execution_count": 48,
   "metadata": {},
   "outputs": [],
   "source": [
    "test_hfss.render_design()"
   ]
  },
  {
   "cell_type": "code",
   "execution_count": 49,
   "metadata": {},
   "outputs": [
    {
     "data": {
      "text/plain": [
       "<pyEPR.ansys.HfssEMSetup at 0x1de1de89640>"
      ]
     },
     "execution_count": 49,
     "metadata": {},
     "output_type": "execute_result"
    }
   ],
   "source": [
    "setup = test_hfss.pinfo.design.get_setup(\"Setup\")\n",
    "setup"
   ]
  },
  {
   "cell_type": "code",
   "execution_count": 50,
   "metadata": {},
   "outputs": [
    {
     "data": {
      "text/plain": [
       "<pyEPR.ansys.HfssModeler at 0x1de1e1cedf0>"
      ]
     },
     "execution_count": 50,
     "metadata": {},
     "output_type": "execute_result"
    }
   ],
   "source": [
    "modeler = test_hfss.pinfo.design.modeler\n",
    "modeler"
   ]
  },
  {
   "cell_type": "markdown",
   "metadata": {},
   "source": [
    "## Create the BBox for the region of interest"
   ]
  },
  {
   "cell_type": "code",
   "execution_count": 51,
   "metadata": {},
   "outputs": [],
   "source": [
    "# Calculate the center and dimensions from the bounding box\n",
    "center_x = (bbox['min_x'] + bbox['max_x']) / 2 \n",
    "center_y = (bbox['min_y'] + bbox['max_y']) / 2 \n",
    "center_z = 0\n",
    "\n",
    "x_size = bbox['max_x'] - bbox['min_x']  \n",
    "y_size = bbox['max_y'] - bbox['min_y']\n",
    "z_size =0\n",
    "\n",
    "# Draw the rectangle in the Ansys modeler\n",
    "gs = modeler.draw_rect_center([center_x*1e-3, center_y*1e-3, center_z*1e-3], x_size=x_size*1e-3, y_size=y_size*1e-3, name='ground_strip')"
   ]
  },
  {
   "cell_type": "markdown",
   "metadata": {},
   "source": [
    "## Create the region for meshing and set sim properties"
   ]
  },
  {
   "cell_type": "code",
   "execution_count": 54,
   "metadata": {},
   "outputs": [],
   "source": [
    "# Subtract 'ground_main_plane' from 'ground_strip'\n",
    "modeler.subtract(\"ground_strip\", [f\"prime_cpw_{coupler.name}\",f\"second_cpw_{coupler.name}\"])\n",
    "\n",
    "# Assign the updated 'ground_strip' to a perfect EM boundary\n",
    "modeler.assign_perfect_E([\"ground_strip\"])\n",
    "\n",
    "# Set the mesh for the updated 'ground_strip'\n",
    "modeler.mesh_length('mesh1', [\"ground_strip\"], MaxLength='0.1mm')"
   ]
  },
  {
   "cell_type": "code",
   "execution_count": null,
   "metadata": {},
   "outputs": [],
   "source": []
  },
  {
   "cell_type": "markdown",
   "metadata": {
    "heading_collapsed": true
   },
   "source": [
    "# EPR Simulation (Qubit + Cavity)"
   ]
  },
  {
   "cell_type": "markdown",
   "metadata": {
    "hidden": true
   },
   "source": [
    "### Sim Time"
   ]
  },
  {
   "cell_type": "code",
   "execution_count": null,
   "metadata": {
    "hidden": true
   },
   "outputs": [],
   "source": [
    "from qiskit_metal.analyses.quantization import EPRanalysis\n",
    "from qiskit_metal.renderers.renderer_ansys_pyaedt.hfss_renderer_eigenmode_aedt import QHFSSEigenmodePyaedt\n",
    "\n",
    "import pyEPR as epr"
   ]
  },
  {
   "cell_type": "code",
   "execution_count": null,
   "metadata": {
    "hidden": true
   },
   "outputs": [],
   "source": [
    "#Simulate Q1 + bus coupling strength\n",
    "\n",
    "eig_q12bus = EPRanalysis(design, \"hfss\")\n",
    "hfss1 = eig_q12bus.sim.renderer\n",
    "eig_q12bus.sim.setup.max_passes = 50\n",
    "eig_q12bus.sim.setup.max_delta_f = 0.05\n",
    "eig_q12bus.sim.setup.min_converged_passes = 2\n",
    "eig_q12bus.sim.setup.n_modes = 1\n",
    "\n",
    "# Create sim setup vars\n",
    "sim_setup_var_dict = dict()\n",
    "# for i, name in enumerate(qubit_names):\n",
    "#     i += 1\n",
    "#     key_Lj = f'Lj{i}'\n",
    "#     key_Cj = f'Cj{i}'\n",
    "sim_setup_var_dict[\"Lj\"] = str(design.components[\"Q\"].options['hfss_inductance']) + ' H'\n",
    "sim_setup_var_dict[\"Cj\"] = str(design.components[\"Q\"].options['hfss_capacitance']) + ' F'\n",
    "\n",
    "eig_q12bus.sim.setup.vars = sim_setup_var_dict\n",
    "\n",
    "\n",
    "gui.rebuild()  # line needed to propagate the updates from the qubit instance into the junction design table\n",
    "gui.autoscale()\n"
   ]
  },
  {
   "cell_type": "code",
   "execution_count": null,
   "metadata": {
    "hidden": true
   },
   "outputs": [],
   "source": [
    "%matplotlib inline\n",
    "\n",
    "hfss = eig_q12bus.sim.renderer\n",
    "\n",
    "eig_q12bus.sim.run(name = \"cavity_test_v1.0\",\n",
    "                   components = [\"Q\", \"cpw\", \"clt\"],\n",
    "                   open_terminations = [(\"clt\", \"prime_start\"), (\"clt\", \"prime_end\")],\n",
    "                   port_list = [(\"clt\", \"prime_start\", \"50\"), (\"clt\", \"prime_end\", \"50\")])\n",
    "\n",
    "### Plot convergences\n",
    "eig_q12bus.sim.plot_convergences()"
   ]
  },
  {
   "cell_type": "code",
   "execution_count": null,
   "metadata": {
    "hidden": true
   },
   "outputs": [],
   "source": [
    "f = eig_q12bus.get_frequencies()\n",
    "\n",
    "freq = f.values[0][0] * 1e9\n",
    "Q = f.values[0][1]\n",
    "kappa = freq / Q"
   ]
  },
  {
   "cell_type": "code",
   "execution_count": null,
   "metadata": {
    "hidden": true
   },
   "outputs": [],
   "source": [
    "print(f\"freq = {round(freq/1e9, 3)} GHz\")\n",
    "print(f\"Q = {round(Q, 1)}\")\n",
    "print(f\"kappa = {round(kappa/1e6, 3)} MHz\")"
   ]
  },
  {
   "cell_type": "markdown",
   "metadata": {},
   "source": [
    "# LOM Analysis"
   ]
  },
  {
   "cell_type": "code",
   "execution_count": null,
   "metadata": {},
   "outputs": [],
   "source": [
    "qubit_names = [f'Q{i}' for i in range(1,7)]\n",
    "for name in qubit_names:\n",
    "    Lj = design.components[name].options['aedt_hfss_inductance']\n",
    "    design.components[name].options['q3d_inductance'] = str(Lj) + \"H\"\n",
    "design.rebuild()"
   ]
  },
  {
   "cell_type": "code",
   "execution_count": null,
   "metadata": {},
   "outputs": [],
   "source": [
    "from qiskit_metal.analyses.quantization import LOManalysis\n",
    "c1 = LOManalysis(design, \"q3d\")"
   ]
  },
  {
   "cell_type": "code",
   "execution_count": null,
   "metadata": {},
   "outputs": [],
   "source": [
    "c1.sim.setup.reuse_selected_design = False\n",
    "c1.sim.setup.reuse_setup = False\n",
    "\n",
    "# example: update single setting\n",
    "c1.sim.setup.max_passes = 30\n",
    "c1.sim.setup.min_converged_passes = 1\n",
    "c1.sim.setup.percent_error = 0.1\n",
    "c1.sim.setup.auto_increase_solution_order = 'False'\n",
    "c1.sim.setup.solution_order = 'Medium'\n",
    "\n",
    "c1.sim.setup.name = 'lom_setup'\n",
    "\n",
    "# import inspect\n",
    "# inspect.signature(c1.sim.renderer.modeler.mesh_length)\n",
    "# c1.sim.renderer.modeler.mesh_length('ground_strip_mesh', ['ground_main_plane'], MaxLength = '3um')\n",
    "# c1.sim.renderer.modeler.mesh_length('claw_mesh', ['c_connector_arm_Q1'], MaxLength = '5um')\n",
    "# c1.sim.renderer.modeler.mesh_length('cross_mesh', ['cross_Q1'], MaxLength = '10um')\n",
    "\n",
    "\n",
    "# .mesh_length('ground_strip', ['ground_main_plane'], MaxLength = '0.003mm')\n",
    "c1.sim.setup\n",
    "\n",
    "# c1"
   ]
  },
  {
   "cell_type": "code",
   "execution_count": null,
   "metadata": {},
   "outputs": [],
   "source": [
    "c1.sim.renderer.start()"
   ]
  },
  {
   "cell_type": "code",
   "execution_count": null,
   "metadata": {},
   "outputs": [],
   "source": [
    "import inspect\n",
    "\n",
    "inspect.signature(c1.sim.renderer.add_mesh)"
   ]
  },
  {
   "cell_type": "code",
   "execution_count": null,
   "metadata": {},
   "outputs": [],
   "source": [
    "c1.sim.renderer.clean_active_design()\n",
    "c1.sim.renderer.render_design(['Q1'], [('Q1','c')])"
   ]
  },
  {
   "cell_type": "code",
   "execution_count": null,
   "metadata": {},
   "outputs": [],
   "source": [
    "c1.sim.setup"
   ]
  },
  {
   "cell_type": "code",
   "execution_count": null,
   "metadata": {},
   "outputs": [],
   "source": [
    "c1.sim.renderer.analyze_setup(c1.sim.setup.name)"
   ]
  },
  {
   "cell_type": "code",
   "execution_count": null,
   "metadata": {},
   "outputs": [],
   "source": [
    "all_cap_matricies = []\n",
    "\n",
    "for i, name in enumerate(qubit_names):\n",
    "    i += 1\n",
    "    if i != 5:\n",
    "        continue\n",
    "\n",
    "    ### Render design\n",
    "    # if i == 3 or i == 5 or i == 6: # Finger coupler\n",
    "    #     selection = [f'Q{i}']\n",
    "    #     open_pins = [(f'Q{i}', 'c')]\n",
    "    # else: # Hanging resonator coupler\n",
    "    #     selection = [f'Q{i}', f'cpw{i}', f'clt{i}']\n",
    "    #     open_pins = [(f'clt{i}', 'prime_start'), (f'clt{i}', 'prime_end')]\n",
    "\n",
    "    selection = [f'Q{i}']\n",
    "    open_pins = [(f'Q{i}', 'readout')]\n",
    "\n",
    "\n",
    "    c1.sim.run(name = 'LOMv2.0', components=selection,\n",
    "               open_terminations=open_pins)\n",
    "    cap_df = c1.sim.capacitance_matrix\n",
    "\n",
    "    all_cap_matricies.append(cap_df)\n",
    "\n",
    "    print(f'For Qubit {i}, the cap matrix is...')\n",
    "    print(cap_df)"
   ]
  },
  {
   "cell_type": "code",
   "execution_count": null,
   "metadata": {},
   "outputs": [],
   "source": [
    "q3d = c1.sim.renderer\n",
    "\n",
    "q3d.start()\n",
    "q3d.activate_ansys_design(\"xmon_v1.0\", 'capacitive')\n",
    "\n",
    "q3d.render_design(['Q1'], [('Q1','c')])"
   ]
  },
  {
   "cell_type": "code",
   "execution_count": null,
   "metadata": {},
   "outputs": [],
   "source": [
    "c1.sim.setup.name"
   ]
  },
  {
   "cell_type": "code",
   "execution_count": null,
   "metadata": {},
   "outputs": [],
   "source": [
    "q3d.analyze_setup(c1.sim.setup.name)"
   ]
  },
  {
   "cell_type": "code",
   "execution_count": null,
   "metadata": {},
   "outputs": [],
   "source": [
    "c1.sim.renderer.pinfo.get_setup('Setup')"
   ]
  },
  {
   "cell_type": "code",
   "execution_count": null,
   "metadata": {},
   "outputs": [],
   "source": [
    "c1.sim.capacitance_matrix, c1.sim.units = q3d.get_capacitance_matrix()\n",
    "c1.sim.capacitance_all_passes, _ = q3d.get_capacitance_all_passes()\n",
    "c1.sim.capacitance_matrix"
   ]
  },
  {
   "cell_type": "code",
   "execution_count": null,
   "metadata": {},
   "outputs": [],
   "source": [
    "import json\n",
    "from datetime import datetime\n",
    "\n",
    "def save_simulation_data_to_json(data):\n",
    "    current_time = datetime.now().strftime(\"%Y%m%d_%H%M%S\")\n",
    "    filename = f\"simulation_data_{123}.json\"\n",
    "    \n",
    "    # with open(filename, 'a') as outfile:\n",
    "    #     json.dump(data, outfile, indent=4)\n",
    "\n",
    "    with open(filename, 'a+') as f:\n",
    "        d = json.load(f)\n",
    "\n",
    "    d.update(data)\n",
    "\n",
    "    with open(filename, 'a+') as f:\n",
    "        json.dump(d, f, indent = 4)"
   ]
  },
  {
   "cell_type": "code",
   "execution_count": null,
   "metadata": {},
   "outputs": [],
   "source": [
    "c1.sim.renderer."
   ]
  }
 ],
 "metadata": {
  "hide_input": false,
  "kernelspec": {
   "display_name": "Python 3 (ipykernel)",
   "language": "python",
   "name": "python3"
  },
  "language_info": {
   "codemirror_mode": {
    "name": "ipython",
    "version": 3
   },
   "file_extension": ".py",
   "mimetype": "text/x-python",
   "name": "python",
   "nbconvert_exporter": "python",
   "pygments_lexer": "ipython3",
   "version": "3.9.9"
  },
  "toc": {
   "base_numbering": 1,
   "nav_menu": {},
   "number_sections": true,
   "sideBar": false,
   "skip_h1_title": false,
   "title_cell": "Table of Contents",
   "title_sidebar": "Contents",
   "toc_cell": false,
   "toc_position": {},
   "toc_section_display": true,
   "toc_window_display": false
  }
 },
 "nbformat": 4,
 "nbformat_minor": 4
}
