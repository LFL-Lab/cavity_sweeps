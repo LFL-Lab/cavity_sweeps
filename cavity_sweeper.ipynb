{
 "cells": [
  {
   "cell_type": "code",
   "execution_count": 1,
   "metadata": {},
   "outputs": [],
   "source": [
    "%load_ext autoreload\n",
    "%autoreload 2"
   ]
  },
  {
   "cell_type": "markdown",
   "metadata": {},
   "source": [
    "### Imports"
   ]
  },
  {
   "cell_type": "code",
   "execution_count": 2,
   "metadata": {},
   "outputs": [],
   "source": [
    "from qiskit_metal import draw, Dict, designs, MetalGUI\n",
    "from qiskit_metal.toolbox_metal import math_and_overrides\n",
    "from qiskit_metal.qlibrary.core import QComponent\n",
    "import qiskit_metal as metal\n",
    "from just_claw import TransmonClaw\n",
    "from qiskit_metal.qlibrary.terminations.launchpad_wb import LaunchpadWirebond\n",
    "from qiskit_metal.qlibrary.terminations.short_to_ground import ShortToGround\n",
    "from qiskit_metal.qlibrary.tlines.straight_path import RouteStraight\n",
    "from qiskit_metal.qlibrary.tlines.anchored_path import RouteAnchors\n",
    "from qiskit_metal.qlibrary.tlines.mixed_path import RouteMixed\n",
    "from qiskit_metal.qlibrary.qubits.transmon_cross import TransmonCross\n",
    "from qiskit_metal.qlibrary.tlines.meandered import RouteMeander\n",
    "from qiskit_metal.qlibrary.terminations.open_to_ground import OpenToGround\n",
    "from qiskit_metal.qlibrary.couplers.coupled_line_tee import CoupledLineTee\n",
    "from qiskit_metal.qlibrary.couplers.cap_n_interdigital_tee import CapNInterdigitalTee\n",
    "from qiskit_metal.qlibrary.couplers.line_tee import LineTee\n",
    "\n",
    "from collections import OrderedDict\n",
    "\n",
    "import numpy as np"
   ]
  },
  {
   "cell_type": "markdown",
   "metadata": {
    "heading_collapsed": true
   },
   "source": [
    "# Data Collection"
   ]
  },
  {
   "cell_type": "markdown",
   "metadata": {
    "hidden": true
   },
   "source": [
    "## WM1"
   ]
  },
  {
   "cell_type": "code",
   "execution_count": 3,
   "metadata": {
    "hidden": true
   },
   "outputs": [],
   "source": [
    "cpw1_opts = Dict(\n",
    "                lead = Dict(end_straight = '70um',\n",
    "                ),\n",
    "                fillet = '49.9um',\n",
    "                total_length = '3900um',\n",
    "                trace_width = \"11.7um\",\n",
    "                meander = Dict(spacing = '100um',\n",
    "                               asymmetry = '-150um'),\n",
    "                trace_gap = '5.1um',)\n",
    "\n",
    "cpw2_opts = Dict(\n",
    "                lead = Dict(end_straight = '70um',\n",
    "                ),\n",
    "                fillet = '49.9um',\n",
    "                total_length = '3700um',\n",
    "                trace_width = \"11.7um\",\n",
    "                meander = Dict(spacing = '100um',\n",
    "                               asymmetry = '-150um'),\n",
    "                trace_gap = '5.1um')\n",
    "\n",
    "cpw3_opts = Dict(\n",
    "                lead = Dict(start_straight = '100um',\n",
    "                            end_straight = '170um'),\n",
    "                fillet = '49.9um',\n",
    "                total_length = '8150um',\n",
    "                trace_width = \"11.7um\",\n",
    "                meander = Dict(spacing = '100um',\n",
    "                               asymmetry = '-150um'),\n",
    "                trace_gap = '5.1um')\n",
    "\n",
    "cpw4_opts = Dict(\n",
    "                lead = Dict(start_straight = '10um',\n",
    "                            end_straight = '70um'),\n",
    "                fillet = '49.9um',\n",
    "                total_length = '3550um',\n",
    "                trace_width = \"11.7um\",\n",
    "                meander = Dict(spacing = '100um',\n",
    "                               asymmetry = '-150um'),\n",
    "                trace_gap = '5.1um')\n",
    "\n",
    "cpw5_opts = Dict(\n",
    "                lead = Dict(start_straight = '100um'),\n",
    "                fillet = '49.9um',\n",
    "                total_length = '8025um',\n",
    "                trace_width = \"11.7um\",\n",
    "                meander = Dict(spacing = '100um',\n",
    "                               asymmetry = '-150um'),\n",
    "                trace_gap = '5.1um')\n",
    "\n",
    "cpw6_opts = Dict(\n",
    "                lead = Dict(start_straight = '100um',\n",
    "                            end_straight = '70um'),\n",
    "                fillet = '49.9um',\n",
    "                total_length = '8000um',\n",
    "                trace_width = \"11.7um\",\n",
    "                meander = Dict(spacing = '100um',\n",
    "                               asymmetry = '-150um'),\n",
    "                trace_gap = '5.1um')\n",
    "\n",
    "claw1_opts = dict(\n",
    "    connection_pads=dict(\n",
    "        readout = dict(connector_location = '90', \n",
    "                 connector_type = '0', \n",
    "                 claw_length = '215um',\n",
    "                 ground_spacing = '10um', \n",
    "                 claw_gap = '5.1um', \n",
    "                 claw_width = '15um',\n",
    "                 claw_cpw_width = \"11.7um\",\n",
    "                 claw_cpw_length = '0um'\n",
    "                 ),\n",
    "    ),\n",
    "    cross_width = '30um',\n",
    "    cross_length = '240um',\n",
    "    cross_gap = '30um',\n",
    "    orientation = '-90',\n",
    "    pos_x = '-1500um',\n",
    "    aedt_hfss_inductance = 9.686E-9\n",
    ")\n",
    "\n",
    "claw2_opts = dict(\n",
    "    connection_pads=dict(\n",
    "        readout = dict(connector_location = '90', \n",
    "                 connector_type = '0', \n",
    "                 claw_length = '215.9um',\n",
    "                 ground_spacing = '9.1um', \n",
    "                 claw_gap = '5.1um', \n",
    "                 claw_width = '15.9um',\n",
    "                 claw_cpw_width = \"11.7um\",\n",
    "                 claw_cpw_length = 0),\n",
    "    ),\n",
    "    cross_width = '30.9um',\n",
    "    cross_length = '240.9um',\n",
    "    cross_gap = '29.1um',\n",
    "    orientation = '-90',\n",
    "    pos_x = '-1500um',\n",
    "    aedt_hfss_inductance = 11.268E-9\n",
    ")\n",
    "\n",
    "claw3_opts = dict(\n",
    "    connection_pads=dict(\n",
    "        readout = dict(connector_location = '90', \n",
    "                 connector_type = '0', \n",
    "                 claw_length = '185.9um',\n",
    "                 ground_spacing = '4.1um', \n",
    "                 claw_gap = '5.1um', \n",
    "                 claw_width = '15.9um',\n",
    "                 claw_cpw_width = \"11.7um\",\n",
    "                 claw_cpw_length = 0),\n",
    "    ),\n",
    "    cross_width = '30.9um',\n",
    "    cross_length = '200.9um',\n",
    "    cross_gap = '29.1um',\n",
    "    orientation = '-90',\n",
    "    pos_x = '-2000.9um',\n",
    "    aedt_hfss_inductance = 10.471E-9\n",
    ")\n",
    "\n",
    "claw4_opts = dict(\n",
    "    connection_pads=dict(\n",
    "        readout = dict(connector_location = '90', \n",
    "                 connector_type = '0', \n",
    "                 claw_length = '215.9um',\n",
    "                 ground_spacing = '9.1um', \n",
    "                 claw_gap = '5.1um', \n",
    "                 claw_width = '15.9um',\n",
    "                 claw_cpw_width = \"11.7um\",\n",
    "                 claw_cpw_length = '0'),\n",
    "    ),\n",
    "    cross_width = '30.9um',\n",
    "    cross_length = '240.9um',\n",
    "    cross_gap = '29.1um',\n",
    "    orientation = '-90',\n",
    "    pos_x = '-1500um',\n",
    "    aedt_hfss_inductance = 13.816E-9\n",
    ")\n",
    "\n",
    "claw5_opts = dict(\n",
    "    connection_pads=dict(\n",
    "        readout = dict(connector_location = '90', \n",
    "                 connector_type = '0', \n",
    "                 claw_length = '185um',\n",
    "                 ground_spacing = '5um', \n",
    "                 claw_gap = '5.1um', \n",
    "                 claw_width = '10um',\n",
    "                 claw_cpw_width = \"11.7um\",\n",
    "                 claw_cpw_length = 0),\n",
    "    ),\n",
    "    cross_width = '30um',\n",
    "    cross_length = '200um',\n",
    "    cross_gap = '30um',\n",
    "    orientation = '-90',\n",
    "    pos_x = '-2000um',\n",
    "    aedt_hfss_inductance = 13.235E-9\n",
    ")\n",
    "\n",
    "claw6_opts = dict(\n",
    "    connection_pads=dict(\n",
    "        c = dict(connector_location = '90', \n",
    "                 connector_type = '0', \n",
    "                 claw_length = '200.9um',\n",
    "                 ground_spacing = '10.9um', \n",
    "                 claw_gap = '5.1um', \n",
    "                 claw_width = '10.9um',\n",
    "                 claw_cpw_width = \"11.7um\",\n",
    "                 claw_cpw_length = '0'),\n",
    "    ),\n",
    "    cross_width = '30.9um',\n",
    "    cross_length = '220.9um',\n",
    "    cross_gap = '29.1um',\n",
    "    orientation = '-90',\n",
    "    pos_x = '-2000um',\n",
    "    aedt_hfss_inductance = 12.679E-9\n",
    ")\n",
    "\n",
    "cplr1_opts = Dict(prime_width = \"11.7um\",\n",
    "                prime_gap = '5.1um',\n",
    "                second_width = \"11.7um\",\n",
    "                second_gap = '5.1um',\n",
    "                coupling_space = '7.9um',\n",
    "                coupling_length = '225um',\n",
    "                open_termination = False,\n",
    "                orientation = '-90',\n",
    "                down_length = '50um')\n",
    "\n",
    "cplr2_opts = Dict(prime_width = \"11.7um\",\n",
    "                prime_gap = '5.1um',\n",
    "                second_width = \"11.7um\",\n",
    "                second_gap = '5.1um',\n",
    "                coupling_space = '7.9um',\n",
    "                coupling_length = '225um',\n",
    "                open_termination = False,\n",
    "                orientation = '-90',\n",
    "                down_length = '50um')\n",
    "\n",
    "cplr3_opts = Dict(orientation = '-90',\n",
    "                  prime_width = \"11.7um\",\n",
    "                  prime_gap = '5.1um',\n",
    "                  second_width = \"11.7um\",\n",
    "                  second_gap = '5.1um',\n",
    "                  cap_gap = '4.1um',\n",
    "                  cap_width = '10.9um',\n",
    "                  cap_gap_ground = '5.1um',\n",
    "                  finger_length = '30.9um',\n",
    "                  finger_count = '10',\n",
    "                  cap_distance = '50.9um',)\n",
    "\n",
    "cplr4_opts = Dict(prime_width = \"11.7um\",\n",
    "                prime_gap = '5.1um',\n",
    "                second_width = \"11.7um\",\n",
    "                second_gap = '5.1um',\n",
    "                coupling_space = '7.9um',\n",
    "                coupling_length = '225um',\n",
    "                open_termination = False,\n",
    "                orientation = '-90',\n",
    "                down_length = '50um')\n",
    "\n",
    "cplr5_opts = Dict(orientation = '-90',\n",
    "                  prime_width = \"11.7um\",\n",
    "                  prime_gap = '5.1um',\n",
    "                  second_width = \"11.7um\",\n",
    "                  second_gap = '5.1um',\n",
    "                  cap_gap = '4.1um',\n",
    "                  cap_width = '10.9um',\n",
    "                  cap_gap_ground = '5.1um',\n",
    "                  finger_length = '30.9um',\n",
    "                  finger_count = '7',\n",
    "                  cap_distance = '50.9um',)\n",
    "\n",
    "cplr6_opts = Dict(orientation = '-90',\n",
    "                  prime_width = \"11.7um\",\n",
    "                  prime_gap = '5.1um',\n",
    "                  second_width = \"11.7um\",\n",
    "                  second_gap = '5.1um',\n",
    "                  cap_gap = '4.1um',\n",
    "                  cap_width = '10.9um',\n",
    "                  cap_gap_ground = '5.1um',\n",
    "                  finger_length = '30.9um',\n",
    "                  finger_count = '4',\n",
    "                  cap_distance = '50.9um',\n",
    "                  )"
   ]
  },
  {
   "cell_type": "code",
   "execution_count": 4,
   "metadata": {
    "hidden": true
   },
   "outputs": [],
   "source": [
    "wm1 = {\n",
    "    \"cpw_opts\" : [cpw1_opts, cpw2_opts, cpw3_opts, cpw4_opts, cpw5_opts, cpw6_opts],\n",
    "    \"claw_opts\" : [claw1_opts, claw2_opts, claw3_opts, claw4_opts, claw5_opts, claw6_opts],\n",
    "    \"coupler_opts\" : [cplr1_opts, cplr2_opts, cplr3_opts, cplr4_opts, cplr5_opts, cplr6_opts],\n",
    "}"
   ]
  },
  {
   "cell_type": "markdown",
   "metadata": {
    "hidden": true
   },
   "source": [
    "## MUNINN"
   ]
  },
  {
   "cell_type": "code",
   "execution_count": 5,
   "metadata": {
    "hidden": true
   },
   "outputs": [],
   "source": [
    "cpw1_opts = Dict(chip='main',\n",
    "                        fillet='50um',\n",
    "                        total_length = '3.58mm',\n",
    "                        lead = dict(start_straight = '10um', end_straight = '10um',\n",
    "                                   ), trace_width = '10um', meander= dict(spacing='120um', asymmetry='-0.15'))\n",
    "\n",
    "cpw2_opts = Dict(chip='main',\n",
    "                        fillet='50um',\n",
    "                        total_length = '3.5mm',\n",
    "                        lead = dict(start_straight = '10um', end_straight = '10um',\n",
    "                                   ), trace_width = '10um', meander= dict(spacing='120um', asymmetry='-0.15'))\n",
    "\n",
    "cpw3_opts = Dict(chip='main',\n",
    "                        fillet='50um',\n",
    "                        total_length = '3.46mm',\n",
    "                        lead = dict(start_straight = '10um', end_straight = '10um',\n",
    "                                   ), trace_width = '10um', meander= dict(spacing='120um', asymmetry='-0.15'))\n",
    "\n",
    "claw1_opts = dict(chip='main', make_fl=False, cross_gap = '30um', cross_width = '30um', cross_length= '185um', \n",
    "    connection_pads=dict(\n",
    "        dl1 = dict(connector_location = '0', connector_type = '1', ground_spacing='30um'),\n",
    "        b1 = dict(connector_location = '180', connector_type = '0', claw_length = '115um', claw_width = '7um', claw_gap= '6um', ground_spacing='4um'),\n",
    "        r1 = dict(connector_location = '90', connector_type = '0', claw_length = '140um', claw_width = '10um', claw_gap= '6um', ground_spacing='10um'), \n",
    "    \n",
    "    ),\n",
    ")\n",
    "\n",
    "claw2_opts = dict(chip='main', make_fl=False, cross_gap = '30um', cross_width = '30um', cross_length= '205um', \n",
    "    connection_pads=dict(\n",
    "        #dl2 = dict( connector_location = '180', connector_type = '1', ground_spacing='120um'),\n",
    "        b2 = dict(connector_location = '-180', connector_type = '0', claw_length = '110um', claw_width = '7um', claw_gap= '6um', ground_spacing='4um'),\n",
    "        r2 = dict(connector_location = '90', connector_type = '0', claw_length = '135um', claw_width = '10um', claw_gap= '6um', ground_spacing='10um'), \n",
    "        b22 = dict(connector_location = '180', connector_type = '0', claw_length = '145um', claw_width = '7um', claw_gap= '6um', ground_spacing='4um'),\n",
    "    ),\n",
    ")\n",
    "\n",
    "claw3_opts = Dict(chip='main', make_fl=False, cross_gap = '30um', cross_width = '30um', cross_length= '195um', \n",
    "    connection_pads = dict(\n",
    "        #dl2 = dict( connector_location = '180', connector_type = '1'),\n",
    "        b3 = dict(connector_location = '-180', connector_type = '0', claw_length = '130um', claw_width = '7um', claw_gap= '6um'),\n",
    "        r3 = dict(connector_location = '90', connector_type = '0', claw_length = '110um', claw_width = '10um', claw_gap= '6um', ground_spacing='10um'), \n",
    "    \n",
    "    ),\n",
    ")\n",
    "\n",
    "cplr1_opts = Dict(coupling_length='200um', coupling_space='7um', down_length='30um', orientation = \"-90\", open_termination=False)\n",
    "cplr2_opts = Dict(coupling_length='200um', coupling_space='7um', down_length='30um', orientation = \"-90\", open_termination=False)\n",
    "cplr3_opts = Dict(coupling_length='200um', coupling_space='7um', down_length='30um', orientation = \"-90\", open_termination=False)"
   ]
  },
  {
   "cell_type": "code",
   "execution_count": 6,
   "metadata": {
    "hidden": true
   },
   "outputs": [],
   "source": [
    "muninn = {\n",
    "    \"cpw_opts\" : [cpw1_opts, cpw2_opts, cpw3_opts],\n",
    "    \"claw_opts\" : [claw1_opts, claw2_opts, claw3_opts],\n",
    "    \"coupler_opts\" : [cplr1_opts, cplr2_opts, cplr3_opts],\n",
    "}"
   ]
  },
  {
   "cell_type": "code",
   "execution_count": 7,
   "metadata": {
    "hidden": true
   },
   "outputs": [],
   "source": [
    "devices = {\n",
    "    \"wm1\" : wm1,\n",
    "    \"muninn\" : muninn\n",
    "}"
   ]
  },
  {
   "cell_type": "markdown",
   "metadata": {
    "heading_collapsed": true
   },
   "source": [
    "# Creating a Simulation Unit"
   ]
  },
  {
   "cell_type": "code",
   "execution_count": 8,
   "metadata": {
    "hidden": true
   },
   "outputs": [],
   "source": [
    "def create_claw(opts):\n",
    "    claw = TransmonClaw(design, 'claw', options=opts)\n",
    "    return claw\n",
    "\n",
    "def create_coupler(opts):\n",
    "    cplr = CapNInterdigitalTee(design, 'cplr', options = opts) if \"finger_count\" in opts.keys() else CoupledLineTee(design, 'cplr', options = opts)\n",
    "    return cplr\n",
    "\n",
    "def create_cpw(opts):\n",
    "    opts.update({\"pin_inputs\" : Dict(start_pin = Dict(component = 'cplr',\n",
    "                                                    pin = 'second_end'),\n",
    "                                   end_pin = Dict(component = 'claw',\n",
    "                                                  pin = 'readout'))})\n",
    "    cpw = RouteMeander(design, 'cpw', options = opts)\n",
    "    return cpw"
   ]
  },
  {
   "cell_type": "code",
   "execution_count": 11,
   "metadata": {
    "hidden": true
   },
   "outputs": [],
   "source": [
    "design = metal.designs.design_planar.DesignPlanar()\n",
    "gui = metal.MetalGUI(design)\n",
    "design.overwrite_enabled = True\n",
    "\n",
    "design._chips.main.size.size_x = '5mm'\n",
    "design._chips.main.size.size_y = '5mm'"
   ]
  },
  {
   "cell_type": "code",
   "execution_count": 12,
   "metadata": {
    "hidden": true
   },
   "outputs": [],
   "source": [
    "test_hfss = design.renderers.hfss"
   ]
  },
  {
   "cell_type": "markdown",
   "metadata": {},
   "source": [
    "# Simulation Engine: Eigenmodal"
   ]
  },
  {
   "cell_type": "markdown",
   "metadata": {},
   "source": [
    "### Material Properties Settings"
   ]
  },
  {
   "cell_type": "code",
   "execution_count": 13,
   "metadata": {},
   "outputs": [],
   "source": [
    "from pyaedt import Hfss\n",
    "\n",
    "def setMaterialProperties(projectname,designname,solutiontype=\"Eigenmode\"):\n",
    "    \"\"\"Interfaces w/ ANSYS via pyEPR for more custom automation.\n",
    "    1. Connect to ANSYS\n",
    "    2. Change Silicon permitivity to 11.45; represents ultra cold silicon.\n",
    "    3. Checks for prexisting Setups, deletes them...\n",
    "    \"\"\"\n",
    "\n",
    "    aedt = Hfss(projectname=projectname, \n",
    "                designname=designname, \n",
    "                solution_type=solutiontype,\n",
    "                new_desktop_session=False, \n",
    "                close_on_exit=False)\n",
    "\n",
    "\n",
    "    ultra_cold_silicon(aedt)\n",
    "    delete_old_setups(aedt)\n",
    "\n",
    "    aedt.release_desktop(close_projects=False, close_desktop=False)\n",
    "\n",
    "def ultra_cold_silicon(aedt):\n",
    "    \"\"\"Change silicon properties to ultra cold silicon\n",
    "\n",
    "    Args:\n",
    "        aedt (pyAEDT Desktop obj)\n",
    "    \"\"\"\n",
    "    materials = aedt.materials\n",
    "    silicon = materials.checkifmaterialexists('silicon')\n",
    "    silicon.permittivity = 11.45\n",
    "    silicon.dielectric_loss_tangent = 1E-7\n",
    "\n",
    "def delete_old_setups(aedt):\n",
    "    \"\"\"Delete old setups\n",
    "\n",
    "    Args:\n",
    "        aedt (pyAEDT Desktop obj)\n",
    "    \"\"\"\n",
    "    # Clear setups\n",
    "    if len(aedt.setups) != 0:\n",
    "        aedt.setups[0].delete()\n"
   ]
  },
  {
   "cell_type": "markdown",
   "metadata": {},
   "source": [
    "## CLT Cavities\n",
    "\n",
    "### WM1 Cavity 3"
   ]
  },
  {
   "cell_type": "code",
   "execution_count": 14,
   "metadata": {},
   "outputs": [],
   "source": [
    "claw = create_claw(devices[\"wm1\"][\"claw_opts\"][2])\n",
    "coupler = create_coupler(devices[\"wm1\"][\"coupler_opts\"][0])\n",
    "cpw = create_cpw(devices[\"wm1\"][\"cpw_opts\"][2])\n",
    "gui.rebuild()\n",
    "gui.autoscale()"
   ]
  },
  {
   "cell_type": "markdown",
   "metadata": {},
   "source": [
    "### Dynamic Mesh Generation Around Couplers"
   ]
  },
  {
   "cell_type": "code",
   "execution_count": 15,
   "metadata": {},
   "outputs": [],
   "source": [
    "df_path = design.qgeometry.tables[\"path\"]"
   ]
  },
  {
   "cell_type": "code",
   "execution_count": 16,
   "metadata": {},
   "outputs": [
    {
     "data": {
      "text/plain": [
       "{'min_x': -0.0798, 'max_x': 0.0, 'min_y': -0.3375, 'max_y': 0.3375}"
      ]
     },
     "execution_count": 16,
     "metadata": {},
     "output_type": "execute_result"
    }
   ],
   "source": [
    "bounds = coupler.qgeometry_bounds()\n",
    "bbox = {'min_x': bounds[0], 'max_x': bounds[2], 'min_y': bounds[1], 'max_y': bounds[3]}\n",
    "bbox"
   ]
  },
  {
   "cell_type": "markdown",
   "metadata": {},
   "source": [
    "### Render into Ansys"
   ]
  },
  {
   "cell_type": "code",
   "execution_count": 17,
   "metadata": {},
   "outputs": [],
   "source": [
    "from qiskit_metal.analyses.quantization import EPRanalysis"
   ]
  },
  {
   "cell_type": "code",
   "execution_count": 18,
   "metadata": {},
   "outputs": [],
   "source": [
    "epra = EPRanalysis(design, \"hfss\")"
   ]
  },
  {
   "cell_type": "code",
   "execution_count": 19,
   "metadata": {},
   "outputs": [
    {
     "name": "stderr",
     "output_type": "stream",
     "text": [
      "INFO 04:29PM [connect_project]: Connecting to Ansys Desktop API...\n",
      "INFO 04:29PM [load_ansys_project]: \tOpened Ansys App\n",
      "INFO 04:29PM [load_ansys_project]: \tOpened Ansys Desktop v2021.1.0\n",
      "INFO 04:29PM [load_ansys_project]: \tOpened Ansys Project\n",
      "\tFolder:    D:/lfl/Documents/Ansoft/\n",
      "\tProject:   Project32\n",
      "INFO 04:29PM [connect_design]: No active design found (or error getting active design).\n",
      "INFO 04:29PM [connect]: \t Connected to project \"Project32\". No design detected\n"
     ]
    },
    {
     "data": {
      "text/plain": [
       "True"
      ]
     },
     "execution_count": 19,
     "metadata": {},
     "output_type": "execute_result"
    }
   ],
   "source": [
    "test_hfss = epra.sim.renderer\n",
    "test_hfss.start()"
   ]
  },
  {
   "cell_type": "code",
   "execution_count": 20,
   "metadata": {},
   "outputs": [
    {
     "name": "stderr",
     "output_type": "stream",
     "text": [
      "INFO 04:29PM [connect_design]: \tOpened active design\n",
      "\tDesign:    CavitySweep_Test [Solution type: Eigenmode]\n",
      "WARNING 04:29PM [connect_setup]: \tNo design setup detected.\n",
      "WARNING 04:29PM [connect_setup]: \tCreating eigenmode default setup.\n",
      "INFO 04:29PM [get_setup]: \tOpened setup `Setup`  (<class 'pyEPR.ansys.HfssEMSetup'>)\n"
     ]
    },
    {
     "data": {
      "text/plain": [
       "'CavitySweep_Test'"
      ]
     },
     "execution_count": 20,
     "metadata": {},
     "output_type": "execute_result"
    }
   ],
   "source": [
    "ansys_design = test_hfss.new_ansys_design(\"CavitySweep_Test\", 'eigenmode')\n",
    "ansys_design.name"
   ]
  },
  {
   "cell_type": "code",
   "execution_count": 21,
   "metadata": {},
   "outputs": [],
   "source": [
    "setup = epra.sim.setup\n",
    "setup.name = ansys_design.name\n",
    "setup.max_passes = 50\n",
    "setup.max_delta_f = 0.05\n",
    "setup.min_converged_passes = 2\n",
    "setup.n_modes = 1\n",
    "setup.vars = Dict({'Lj': '0nH', 'Cj': '0 fF'})"
   ]
  },
  {
   "cell_type": "code",
   "execution_count": 22,
   "metadata": {},
   "outputs": [
    {
     "name": "stderr",
     "output_type": "stream",
     "text": [
      "INFO 04:29PM [connect_design]: \tOpened active design\n",
      "\tDesign:    CavitySweep_Test_hfss [Solution type: Eigenmode]\n",
      "WARNING 04:29PM [connect_setup]: \tNo design setup detected.\n",
      "WARNING 04:29PM [connect_setup]: \tCreating eigenmode default setup.\n",
      "INFO 04:29PM [get_setup]: \tOpened setup `Setup`  (<class 'pyEPR.ansys.HfssEMSetup'>)\n"
     ]
    },
    {
     "name": "stdout",
     "output_type": "stream",
     "text": [
      "creaing porst\n"
     ]
    },
    {
     "data": {
      "text/plain": [
       "'CavitySweep_Test_hfss'"
      ]
     },
     "execution_count": 22,
     "metadata": {},
     "output_type": "execute_result"
    }
   ],
   "source": [
    "epra.sim._render(name=ansys_design.name,\n",
    "                solution_type='eigenmode',\n",
    "                vars_to_initialize=setup.vars, \n",
    "                open_pins = [(coupler.name, \"prime_start\"), (coupler.name, \"prime_end\")],\n",
    "                port_list = [(coupler.name, 'prime_start', 50), (coupler.name, \"prime_end\", 50)],\n",
    "                box_plus_buffer = False)"
   ]
  },
  {
   "cell_type": "code",
   "execution_count": 23,
   "metadata": {},
   "outputs": [
    {
     "data": {
      "text/plain": [
       "<pyEPR.ansys.HfssModeler at 0x1e168a10510>"
      ]
     },
     "execution_count": 23,
     "metadata": {},
     "output_type": "execute_result"
    }
   ],
   "source": [
    "modeler = test_hfss.pinfo.design.modeler\n",
    "modeler"
   ]
  },
  {
   "cell_type": "markdown",
   "metadata": {},
   "source": [
    "### Create the BBox for the region of interest"
   ]
  },
  {
   "cell_type": "code",
   "execution_count": 24,
   "metadata": {},
   "outputs": [],
   "source": [
    "# Calculate the center and dimensions from the bounding box\n",
    "center_x = (bbox['min_x'] + bbox['max_x']) / 2 \n",
    "center_y = (bbox['min_y'] + bbox['max_y']) / 2 \n",
    "center_z = 0\n",
    "\n",
    "x_size = bbox['max_x'] - bbox['min_x']  \n",
    "y_size = bbox['max_y'] - bbox['min_y']\n",
    "z_size =0\n",
    "\n",
    "# Draw the rectangle in the Ansys modeler\n",
    "gs = modeler.draw_rect_center([center_x*1e-3, center_y*1e-3, center_z*1e-3], x_size=x_size*1e-3, y_size=y_size*1e-3, name='ground_strip')"
   ]
  },
  {
   "cell_type": "code",
   "execution_count": 25,
   "metadata": {},
   "outputs": [
    {
     "data": {
      "text/plain": [
       "'ground_strip'"
      ]
     },
     "execution_count": 25,
     "metadata": {},
     "output_type": "execute_result"
    }
   ],
   "source": [
    "gs"
   ]
  },
  {
   "cell_type": "markdown",
   "metadata": {},
   "source": [
    "### Create the region for meshing and set sim properties"
   ]
  },
  {
   "cell_type": "code",
   "execution_count": 26,
   "metadata": {},
   "outputs": [
    {
     "data": {
      "text/plain": [
       "'ground_strip'"
      ]
     },
     "execution_count": 26,
     "metadata": {},
     "output_type": "execute_result"
    }
   ],
   "source": [
    "modeler.intersect([\"ground_strip\", \"ground_main_plane\"], True)"
   ]
  },
  {
   "cell_type": "code",
   "execution_count": 27,
   "metadata": {},
   "outputs": [
    {
     "data": {
      "text/plain": [
       "'ground_main_plane'"
      ]
     },
     "execution_count": 27,
     "metadata": {},
     "output_type": "execute_result"
    }
   ],
   "source": [
    "modeler.subtract(\"ground_main_plane\", [\"ground_strip\"], True)"
   ]
  },
  {
   "cell_type": "code",
   "execution_count": 28,
   "metadata": {},
   "outputs": [],
   "source": [
    "# Assign the updated 'ground_strip' to a perfect EM boundary\n",
    "modeler.assign_perfect_E([\"ground_strip\"])\n",
    "\n",
    "# Set the mesh for the updated 'ground_strip'\n",
    "modeler.mesh_length('mesh1', [\"ground_strip\"], MaxLength='4um')"
   ]
  },
  {
   "cell_type": "markdown",
   "metadata": {},
   "source": [
    "### Create mesh for cavity"
   ]
  },
  {
   "cell_type": "code",
   "execution_count": 29,
   "metadata": {},
   "outputs": [],
   "source": [
    "modeler.mesh_length('mesh2', [f\"prime_cpw_{coupler.name}\", f\"second_cpw_{coupler.name}\", f\"trace_{cpw.name}\", f\"readout_connector_arm_{claw.name}\", ], MaxLength='4um')"
   ]
  },
  {
   "cell_type": "markdown",
   "metadata": {},
   "source": [
    "### Mesh the Ports"
   ]
  },
  {
   "cell_type": "code",
   "execution_count": 30,
   "metadata": {},
   "outputs": [],
   "source": [
    "epra.sim.renderer.options.max_mesh_length_port = '4um'"
   ]
  },
  {
   "cell_type": "markdown",
   "metadata": {},
   "source": [
    "### Start the sim"
   ]
  },
  {
   "cell_type": "code",
   "execution_count": 31,
   "metadata": {},
   "outputs": [
    {
     "data": {
      "text/plain": [
       "'Project32'"
      ]
     },
     "execution_count": 31,
     "metadata": {},
     "output_type": "execute_result"
    }
   ],
   "source": [
    "project_name = test_hfss.pinfo.project_name\n",
    "project_name"
   ]
  },
  {
   "cell_type": "code",
   "execution_count": 32,
   "metadata": {},
   "outputs": [
    {
     "data": {
      "text/plain": [
       "'CavitySweep_Test_hfss'"
      ]
     },
     "execution_count": 32,
     "metadata": {},
     "output_type": "execute_result"
    }
   ],
   "source": [
    "design_name = test_hfss.pinfo.design_name\n",
    "design_name"
   ]
  },
  {
   "cell_type": "code",
   "execution_count": 33,
   "metadata": {},
   "outputs": [
    {
     "name": "stdout",
     "output_type": "stream",
     "text": [
      "pyaedt INFO: using existing logger.\n"
     ]
    },
    {
     "name": "stderr",
     "output_type": "stream",
     "text": [
      "INFO:Global:using existing logger.\n"
     ]
    },
    {
     "name": "stdout",
     "output_type": "stream",
     "text": [
      "pyaedt INFO: Launching PyAEDT outside AEDT with CPython and PythonNET.\n"
     ]
    },
    {
     "name": "stderr",
     "output_type": "stream",
     "text": [
      "INFO:Global:Launching PyAEDT outside AEDT with CPython and PythonNET.\n"
     ]
    },
    {
     "name": "stdout",
     "output_type": "stream",
     "text": [
      "pyaedt INFO: AEDT installation Path D:\\Program Files\\AnsysEM\\AnsysEM21.1\\Win64.\n"
     ]
    },
    {
     "name": "stderr",
     "output_type": "stream",
     "text": [
      "INFO:Global:AEDT installation Path D:\\Program Files\\AnsysEM\\AnsysEM21.1\\Win64.\n"
     ]
    },
    {
     "name": "stdout",
     "output_type": "stream",
     "text": [
      "pyaedt INFO: Launching AEDT with module PythonNET.\n"
     ]
    },
    {
     "name": "stderr",
     "output_type": "stream",
     "text": [
      "INFO:Global:Launching AEDT with module PythonNET.\n"
     ]
    },
    {
     "name": "stdout",
     "output_type": "stream",
     "text": [
      "pyaedt WARNING: PyAEDT is not supported in AEDT versions earlier than 2021 R2. Trying to launch PyAEDT with PyWin32.\n"
     ]
    },
    {
     "name": "stderr",
     "output_type": "stream",
     "text": [
      "WARNING:Global:PyAEDT is not supported in AEDT versions earlier than 2021 R2. Trying to launch PyAEDT with PyWin32.\n"
     ]
    },
    {
     "name": "stdout",
     "output_type": "stream",
     "text": [
      "pyaedt INFO: pyaedt v0.6.46\n"
     ]
    },
    {
     "name": "stderr",
     "output_type": "stream",
     "text": [
      "INFO:Global:pyaedt v0.6.46\n"
     ]
    },
    {
     "name": "stdout",
     "output_type": "stream",
     "text": [
      "pyaedt INFO: Python version 3.11.4 | packaged by conda-forge | (main, Jun 10 2023, 17:59:51) [MSC v.1935 64 bit (AMD64)]\n"
     ]
    },
    {
     "name": "stderr",
     "output_type": "stream",
     "text": [
      "INFO:Global:Python version 3.11.4 | packaged by conda-forge | (main, Jun 10 2023, 17:59:51) [MSC v.1935 64 bit (AMD64)]\n"
     ]
    },
    {
     "name": "stdout",
     "output_type": "stream",
     "text": [
      "pyaedt INFO: Project Project32 set to active.\n"
     ]
    },
    {
     "name": "stderr",
     "output_type": "stream",
     "text": [
      "INFO:Global:Project Project32 set to active.\n"
     ]
    },
    {
     "name": "stdout",
     "output_type": "stream",
     "text": [
      "pyaedt INFO: Aedt Objects initialized\n"
     ]
    },
    {
     "name": "stderr",
     "output_type": "stream",
     "text": [
      "INFO:Global:Aedt Objects initialized\n"
     ]
    },
    {
     "name": "stdout",
     "output_type": "stream",
     "text": [
      "pyaedt INFO: Variable Manager initialized\n"
     ]
    },
    {
     "name": "stderr",
     "output_type": "stream",
     "text": [
      "INFO:Global:Variable Manager initialized\n"
     ]
    },
    {
     "name": "stdout",
     "output_type": "stream",
     "text": [
      "pyaedt INFO: Design Loaded\n"
     ]
    },
    {
     "name": "stderr",
     "output_type": "stream",
     "text": [
      "INFO:Global:Design Loaded\n"
     ]
    },
    {
     "name": "stdout",
     "output_type": "stream",
     "text": [
      "pyaedt INFO: Successfully loaded project materials !\n"
     ]
    },
    {
     "name": "stderr",
     "output_type": "stream",
     "text": [
      "INFO:Global:Successfully loaded project materials !\n"
     ]
    },
    {
     "name": "stdout",
     "output_type": "stream",
     "text": [
      "pyaedt INFO: Materials Loaded\n"
     ]
    },
    {
     "name": "stderr",
     "output_type": "stream",
     "text": [
      "INFO:Global:Materials Loaded\n"
     ]
    },
    {
     "name": "stdout",
     "output_type": "stream",
     "text": [
      "pyaedt INFO: Project files removed from handlers.\n"
     ]
    },
    {
     "name": "stderr",
     "output_type": "stream",
     "text": [
      "INFO:Global:Project files removed from handlers.\n"
     ]
    }
   ],
   "source": [
    "setMaterialProperties(project_name,design_name,solutiontype=\"Eigenmode\")"
   ]
  },
  {
   "cell_type": "code",
   "execution_count": null,
   "metadata": {},
   "outputs": [],
   "source": [
    "epra.sim._analyze()"
   ]
  },
  {
   "cell_type": "code",
   "execution_count": null,
   "metadata": {},
   "outputs": [],
   "source": [
    "epra.sim.plot_convergences()"
   ]
  },
  {
   "cell_type": "code",
   "execution_count": null,
   "metadata": {},
   "outputs": [],
   "source": [
    "epra.sim.save_screenshot()"
   ]
  },
  {
   "cell_type": "code",
   "execution_count": null,
   "metadata": {},
   "outputs": [],
   "source": [
    "epra.sim."
   ]
  },
  {
   "cell_type": "code",
   "execution_count": null,
   "metadata": {},
   "outputs": [],
   "source": [
    "epra.sim.plot_fields('main')\n",
    "epra.sim.save_screenshot()"
   ]
  },
  {
   "cell_type": "code",
   "execution_count": null,
   "metadata": {},
   "outputs": [],
   "source": [
    "f = epra.get_frequencies()\n",
    "\n",
    "freq = f.values[0][0] * 1e9\n",
    "Q = f.values[0][1]\n",
    "kappa = freq / Q"
   ]
  },
  {
   "cell_type": "code",
   "execution_count": null,
   "metadata": {},
   "outputs": [],
   "source": [
    "print(f\"freq = {round(freq/1e9, 3)} GHz\")\n",
    "print(f\"Q = {round(Q, 1)}\")\n",
    "print(f\"kappa = {round(kappa/1e6, 3)} MHz\")"
   ]
  },
  {
   "cell_type": "code",
   "execution_count": null,
   "metadata": {},
   "outputs": [],
   "source": [
    "def getMeshScreenshot(projectname,designname,solutiontype=\"Eigenmode\"):\n",
    "    \"\"\"Interfaces w/ ANSYS via pyEPR for more custom automation.\n",
    "    1. Connect to ANSYS\n",
    "    2. Change Silicon permitivity to 11.45; represents ultra cold silicon.\n",
    "    3. Checks for prexisting Setups, deletes them...\n",
    "    \"\"\"\n",
    "\n",
    "    hfss = Hfss(projectname=projectname, \n",
    "                designname=designname, \n",
    "                solution_type=solutiontype,\n",
    "                new_desktop_session=False, \n",
    "                close_on_exit=False)\n",
    "\n",
    "\n",
    "    # Speculative command to show the mesh in the HFSS graphical interface\n",
    "    #hfss.oeditor.ShowWindow([\"NAME:WindowParameters\", \"ShowMesh:=\", True])\n",
    "\n",
    "    # Export the design preview to a JPG file\n",
    "    #hfss.export_design_preview_to_jpg('output.jpg')\n",
    "\n",
    "    mesh_view_script = \"\"\"\n",
    "    oDesktop.RestoreWindow\n",
    "    o3DLayout = oProject.SetActiveEditor(\"3D Modeler\")\n",
    "    o3DLayout.ShowWindow(\"Mesh\")\n",
    "    \"\"\"\n",
    "\n",
    "    hfss.oeditor.AddScriptCommand(mesh_view_script, True)\n",
    "\n",
    "    # Export the design preview to a JPG file\n",
    "    hfss.export_design_preview_to_jpg('output2.jpg')\n"
   ]
  },
  {
   "cell_type": "code",
   "execution_count": null,
   "metadata": {},
   "outputs": [],
   "source": [
    "getMeshScreenshot(project_name,design_name,solutiontype=\"Eigenmode\")"
   ]
  },
  {
   "cell_type": "code",
   "execution_count": null,
   "metadata": {},
   "outputs": [],
   "source": [
    "test_hfss.close()"
   ]
  },
  {
   "cell_type": "markdown",
   "metadata": {},
   "source": [
    "## NCap Cavity\n",
    "\n",
    "### WM1 Cavity 3"
   ]
  },
  {
   "cell_type": "code",
   "execution_count": null,
   "metadata": {},
   "outputs": [],
   "source": [
    "design = metal.designs.design_planar.DesignPlanar()\n",
    "gui = metal.MetalGUI(design)\n",
    "design.overwrite_enabled = True\n",
    "\n",
    "design._chips.main.size.size_x = '5mm'\n",
    "design._chips.main.size.size_y = '5mm'"
   ]
  },
  {
   "cell_type": "code",
   "execution_count": null,
   "metadata": {},
   "outputs": [],
   "source": [
    "claw = create_claw(devices[\"wm1\"][\"claw_opts\"][0])\n",
    "coupler = create_coupler(devices[\"wm1\"][\"coupler_opts\"][2])\n",
    "cpw = create_cpw(devices[\"wm1\"][\"cpw_opts\"][0])\n",
    "gui.rebuild()\n",
    "gui.autoscale()"
   ]
  },
  {
   "cell_type": "code",
   "execution_count": null,
   "metadata": {},
   "outputs": [],
   "source": [
    "from utils import *\n",
    "from objects import *"
   ]
  },
  {
   "cell_type": "code",
   "execution_count": null,
   "metadata": {},
   "outputs": [],
   "source": [
    "config = SimulationConfig()\n",
    "bbox = generate_bbox(coupler)"
   ]
  },
  {
   "cell_type": "code",
   "execution_count": null,
   "metadata": {},
   "outputs": [],
   "source": [
    "epra, hfss = start_simulation(design, config)\n",
    "setup = set_simulation_hyperparameters(epra, config)"
   ]
  },
  {
   "cell_type": "code",
   "execution_count": null,
   "metadata": {},
   "outputs": [],
   "source": [
    "render_simulation_with_ports(epra, config.design_name, setup.vars, coupler)\n",
    "modeler = hfss.pinfo.design.modeler"
   ]
  },
  {
   "cell_type": "code",
   "execution_count": null,
   "metadata": {},
   "outputs": [],
   "source": [
    "mesh_lengths = {\n",
    "    'mesh1': {\"objects\": [\"ground_strip\"], \"MaxLength\": '4um'},\n",
    "    'mesh2': {\"objects\": [f\"prime_cpw_{coupler.name}\", f\"second_cpw_{coupler.name}\", f\"trace_{cpw.name}\", f\"readout_connector_arm_{claw.name}\"], \"MaxLength\": '4um'},\n",
    "    'port_mesh': {\"objects\": [f\"Port_{coupler.name}_prime_end\", f\"Port_{coupler.name}_prime_start\"], \"MaxLength\": '4um'}\n",
    "}\n",
    "\n",
    "center, dimensions = calculate_center_and_dimensions(bbox)\n",
    "draw_and_update_model(modeler, center, dimensions, coupler, cpw, claw, mesh_lengths)"
   ]
  },
  {
   "cell_type": "code",
   "execution_count": null,
   "metadata": {},
   "outputs": [],
   "source": [
    "get_freq_Q_kappa(epra, hfss)"
   ]
  },
  {
   "cell_type": "markdown",
   "metadata": {},
   "source": [
    "# NCap Workflow as per Eli"
   ]
  },
  {
   "cell_type": "code",
   "execution_count": 8,
   "metadata": {},
   "outputs": [],
   "source": [
    "from utils import *\n",
    "from objects import *"
   ]
  },
  {
   "cell_type": "code",
   "execution_count": 9,
   "metadata": {},
   "outputs": [],
   "source": [
    "design = metal.designs.design_planar.DesignPlanar()\n",
    "gui = metal.MetalGUI(design)\n",
    "design.overwrite_enabled = True\n",
    "\n",
    "# design._chips.main.size.size_x = '5mm'\n",
    "# design._chips.main.size.size_y = '5mm'"
   ]
  },
  {
   "cell_type": "code",
   "execution_count": 10,
   "metadata": {},
   "outputs": [],
   "source": [
    "claw = create_claw(devices[\"wm1\"][\"claw_opts\"][4], design)\n",
    "coupler = create_coupler(devices[\"wm1\"][\"coupler_opts\"][4], design)\n",
    "cpw = create_cpw(devices[\"wm1\"][\"cpw_opts\"][4], design)\n",
    "gui.rebuild()\n",
    "gui.autoscale()"
   ]
  },
  {
   "cell_type": "code",
   "execution_count": 11,
   "metadata": {},
   "outputs": [],
   "source": [
    "config = SimulationConfig()"
   ]
  },
  {
   "cell_type": "code",
   "execution_count": 12,
   "metadata": {},
   "outputs": [
    {
     "name": "stdout",
     "output_type": "stream",
     "text": [
      "Starting the Simulation\n"
     ]
    },
    {
     "name": "stderr",
     "output_type": "stream",
     "text": [
      "INFO 04:17PM [connect_project]: Connecting to Ansys Desktop API...\n",
      "INFO 04:17PM [load_ansys_project]: \tOpened Ansys App\n",
      "INFO 04:17PM [load_ansys_project]: \tOpened Ansys Desktop v2021.1.0\n",
      "INFO 04:17PM [load_ansys_project]: \tOpened Ansys Project\n",
      "\tFolder:    D:/Users/lfl/Documents/Ansoft/\n",
      "\tProject:   Project7\n",
      "INFO 04:17PM [connect_design]: No active design found (or error getting active design).\n",
      "INFO 04:17PM [connect]: \t Connected to project \"Project7\". No design detected\n",
      "INFO 04:17PM [connect_design]: \tOpened active design\n",
      "\tDesign:    CavitySweep [Solution type: Eigenmode]\n",
      "WARNING 04:17PM [connect_setup]: \tNo design setup detected.\n",
      "WARNING 04:17PM [connect_setup]: \tCreating eigenmode default setup.\n",
      "INFO 04:17PM [get_setup]: \tOpened setup `Setup`  (<class 'pyEPR.ansys.HfssEMSetup'>)\n"
     ]
    }
   ],
   "source": [
    "epra, hfss = start_simulation(design, config)\n",
    "setup = set_simulation_hyperparameters(epra, config)"
   ]
  },
  {
   "cell_type": "code",
   "execution_count": 13,
   "metadata": {},
   "outputs": [
    {
     "name": "stderr",
     "output_type": "stream",
     "text": [
      "INFO 04:17PM [connect_design]: \tOpened active design\n",
      "\tDesign:    CavitySweep_hfss [Solution type: Eigenmode]\n",
      "WARNING 04:17PM [connect_setup]: \tNo design setup detected.\n",
      "WARNING 04:17PM [connect_setup]: \tCreating eigenmode default setup.\n",
      "INFO 04:17PM [get_setup]: \tOpened setup `Setup`  (<class 'pyEPR.ansys.HfssEMSetup'>)\n"
     ]
    },
    {
     "name": "stdout",
     "output_type": "stream",
     "text": [
      "Sim rendered into HFSS!\n"
     ]
    }
   ],
   "source": [
    "render_simulation_no_ports(epra, [cpw,claw], [(cpw.name, \"start\")], config.design_name, setup.vars)\n",
    "modeler = hfss.pinfo.design.modeler"
   ]
  },
  {
   "cell_type": "code",
   "execution_count": 14,
   "metadata": {},
   "outputs": [],
   "source": [
    "mesh_lengths = {\n",
    "    'mesh1': {\"objects\": [f\"trace_{cpw.name}\", f\"readout_connector_arm_{claw.name}\"], \"MaxLength\": '4um'},\n",
    "}\n",
    "\n",
    "mesh_objects(modeler,  mesh_lengths)"
   ]
  },
  {
   "cell_type": "code",
   "execution_count": null,
   "metadata": {},
   "outputs": [],
   "source": [
    "f_rough = get_freq(epra, hfss)"
   ]
  },
  {
   "cell_type": "code",
   "execution_count": null,
   "metadata": {},
   "outputs": [],
   "source": [
    "f_rough #Hz"
   ]
  },
  {
   "cell_type": "code",
   "execution_count": null,
   "metadata": {},
   "outputs": [],
   "source": [
    "omega_rough = 2*np.pi*f_rough"
   ]
  },
  {
   "cell_type": "code",
   "execution_count": null,
   "metadata": {},
   "outputs": [],
   "source": [
    "Z_0 = 50 # Ohm\n",
    "C_res = (np.pi / (2 * omega_rough * Z_0) ) * 1e15 # fF\n",
    "C_res"
   ]
  },
  {
   "cell_type": "markdown",
   "metadata": {},
   "source": [
    "## LOM Sim"
   ]
  },
  {
   "cell_type": "code",
   "execution_count": null,
   "metadata": {},
   "outputs": [],
   "source": [
    "from qiskit_metal.analyses.quantization import LOManalysis\n",
    "loma = LOManalysis(design, \"q3d\")"
   ]
  },
  {
   "cell_type": "code",
   "execution_count": null,
   "metadata": {},
   "outputs": [],
   "source": [
    "loma.sim.setup.reuse_selected_design = False\n",
    "loma.sim.setup.reuse_setup = False\n",
    "\n",
    "loma.sim.setup.max_passes = 30\n",
    "loma.sim.setup.min_converged_passes = 1\n",
    "loma.sim.setup.percent_error = 0.1\n",
    "loma.sim.setup.auto_increase_solution_order = 'False'\n",
    "loma.sim.setup.solution_order = 'Medium'\n",
    "\n",
    "loma.sim.setup.name = 'lom_setup'\n",
    "\n",
    "loma.sim.setup"
   ]
  },
  {
   "cell_type": "code",
   "execution_count": null,
   "metadata": {},
   "outputs": [],
   "source": [
    "loma.sim.run(name = 'LOMv2.02', components=[coupler.name],\n",
    "            open_terminations=[(coupler.name, pin_name) for pin_name in coupler.pin_names])"
   ]
  },
  {
   "cell_type": "code",
   "execution_count": null,
   "metadata": {},
   "outputs": [],
   "source": [
    "cap_df = loma.sim.capacitance_matrix"
   ]
  },
  {
   "cell_type": "code",
   "execution_count": null,
   "metadata": {},
   "outputs": [],
   "source": [
    "cap_df.to_csv(f\"{coupler.name}.csv\")"
   ]
  },
  {
   "cell_type": "code",
   "execution_count": null,
   "metadata": {},
   "outputs": [],
   "source": [
    "C_tb = abs(cap_df[f\"cap_body_0_{coupler.name}\"].values[1]) #fF\n",
    "C_tg = abs(cap_df[f\"cap_body_0_{coupler.name}\"].values[2]) #fF"
   ]
  },
  {
   "cell_type": "code",
   "execution_count": null,
   "metadata": {},
   "outputs": [],
   "source": [
    "f_est = np.sqrt((C_res)/(C_res+C_tg+C_tb))*f_rough\n",
    "print(f\"Expected Resonator Frequency is {f_est*1e-9} GHz\")"
   ]
  },
  {
   "cell_type": "code",
   "execution_count": null,
   "metadata": {},
   "outputs": [],
   "source": [
    "omega_est = 2*np.pi*f_est"
   ]
  },
  {
   "cell_type": "code",
   "execution_count": null,
   "metadata": {},
   "outputs": [],
   "source": [
    "kappa = 0.5*Z_0*(omega_est**2)*((C_tb**2)/(C_res+C_tg+C_tb)) * 1e-15 # linear MHz\n",
    "\n",
    "print(f\" Kappa is {kappa/(2*np.pi)*1e-6} MHz\")"
   ]
  },
  {
   "cell_type": "markdown",
   "metadata": {},
   "source": [
    "# Bounds"
   ]
  },
  {
   "cell_type": "markdown",
   "metadata": {},
   "source": [
    "Sweep over \n",
    "CLT: cpw_length [-2x, 2x], CLT_coupling_length [-5x, 5x], claw_width [-2x, 2x]\n",
    "NCap: "
   ]
  }
 ],
 "metadata": {
  "hide_input": false,
  "kernelspec": {
   "display_name": "Python 3 (ipykernel)",
   "language": "python",
   "name": "python3"
  },
  "language_info": {
   "codemirror_mode": {
    "name": "ipython",
    "version": 3
   },
   "file_extension": ".py",
   "mimetype": "text/x-python",
   "name": "python",
   "nbconvert_exporter": "python",
   "pygments_lexer": "ipython3",
   "version": "3.11.4"
  },
  "toc": {
   "base_numbering": 1,
   "nav_menu": {},
   "number_sections": true,
   "sideBar": false,
   "skip_h1_title": false,
   "title_cell": "Table of Contents",
   "title_sidebar": "Contents",
   "toc_cell": false,
   "toc_position": {},
   "toc_section_display": true,
   "toc_window_display": false
  }
 },
 "nbformat": 4,
 "nbformat_minor": 4
}
