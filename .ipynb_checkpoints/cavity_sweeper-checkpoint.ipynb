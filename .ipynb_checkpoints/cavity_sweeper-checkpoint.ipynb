{
 "cells": [
  {
   "cell_type": "code",
   "execution_count": 2,
   "metadata": {},
   "outputs": [],
   "source": [
    "%load_ext autoreload\n",
    "%autoreload 2"
   ]
  },
  {
   "cell_type": "markdown",
   "metadata": {},
   "source": [
    "### Imports"
   ]
  },
  {
   "cell_type": "code",
   "execution_count": 1,
   "metadata": {},
   "outputs": [],
   "source": [
    "from qiskit_metal import draw, Dict, designs, MetalGUI\n",
    "from qiskit_metal.toolbox_metal import math_and_overrides\n",
    "from qiskit_metal.qlibrary.core import QComponent\n",
    "import qiskit_metal as metal\n",
    "from just_claw import TransmonClaw\n",
    "from qiskit_metal.qlibrary.terminations.launchpad_wb import LaunchpadWirebond\n",
    "from qiskit_metal.qlibrary.terminations.short_to_ground import ShortToGround\n",
    "from qiskit_metal.qlibrary.tlines.straight_path import RouteStraight\n",
    "from qiskit_metal.qlibrary.tlines.anchored_path import RouteAnchors\n",
    "from qiskit_metal.qlibrary.tlines.mixed_path import RouteMixed\n",
    "from qiskit_metal.qlibrary.qubits.transmon_cross import TransmonCross\n",
    "from qiskit_metal.qlibrary.tlines.meandered import RouteMeander\n",
    "from qiskit_metal.qlibrary.terminations.open_to_ground import OpenToGround\n",
    "from qiskit_metal.qlibrary.couplers.coupled_line_tee import CoupledLineTee\n",
    "from qiskit_metal.qlibrary.couplers.cap_n_interdigital_tee import CapNInterdigitalTee\n",
    "from qiskit_metal.qlibrary.couplers.line_tee import LineTee\n",
    "\n",
    "from collections import OrderedDict\n",
    "\n",
    "import numpy as np"
   ]
  },
  {
   "cell_type": "markdown",
   "metadata": {},
   "source": [
    "# Data Collection"
   ]
  },
  {
   "cell_type": "markdown",
   "metadata": {},
   "source": [
    "## WM1"
   ]
  },
  {
   "cell_type": "code",
   "execution_count": 5,
   "metadata": {},
   "outputs": [],
   "source": [
    "cpw1_opts = Dict(\n",
    "                lead = Dict(end_straight = '70um',\n",
    "                ),\n",
    "                fillet = '49.9um',\n",
    "                total_length = '3900um',\n",
    "                trace_width = \"11.7um\",\n",
    "                meander = Dict(spacing = '100um',\n",
    "                               asymmetry = '-150um'),\n",
    "                trace_gap = '5.1um',)\n",
    "\n",
    "cpw2_opts = Dict(\n",
    "                lead = Dict(end_straight = '70um',\n",
    "                ),\n",
    "                fillet = '49.9um',\n",
    "                total_length = '3700um',\n",
    "                trace_width = \"11.7um\",\n",
    "                meander = Dict(spacing = '100um',\n",
    "                               asymmetry = '-150um'),\n",
    "                trace_gap = '5.1um')\n",
    "\n",
    "cpw3_opts = Dict(\n",
    "                lead = Dict(start_straight = '100um',\n",
    "                            end_straight = '170um'),\n",
    "                fillet = '49.9um',\n",
    "                total_length = '8150um',\n",
    "                trace_width = \"11.7um\",\n",
    "                meander = Dict(spacing = '100um',\n",
    "                               asymmetry = '-150um'),\n",
    "                trace_gap = '5.1um')\n",
    "\n",
    "cpw4_opts = Dict(\n",
    "                lead = Dict(start_straight = '10um',\n",
    "                            end_straight = '70um'),\n",
    "                fillet = '49.9um',\n",
    "                total_length = '3550um',\n",
    "                trace_width = \"11.7um\",\n",
    "                meander = Dict(spacing = '100um',\n",
    "                               asymmetry = '-150um'),\n",
    "                trace_gap = '5.1um')\n",
    "\n",
    "cpw5_opts = Dict(\n",
    "                lead = Dict(start_straight = '100um'),\n",
    "                fillet = '49.9um',\n",
    "                total_length = '8025um',\n",
    "                trace_width = \"11.7um\",\n",
    "                meander = Dict(spacing = '100um',\n",
    "                               asymmetry = '-150um'),\n",
    "                trace_gap = '5.1um')\n",
    "\n",
    "cpw6_opts = Dict(\n",
    "                lead = Dict(start_straight = '100um',\n",
    "                            end_straight = '70um'),\n",
    "                fillet = '49.9um',\n",
    "                total_length = '8000um',\n",
    "                trace_width = \"11.7um\",\n",
    "                meander = Dict(spacing = '100um',\n",
    "                               asymmetry = '-150um'),\n",
    "                trace_gap = '5.1um')\n",
    "\n",
    "claw1_opts = dict(\n",
    "    connection_pads=dict(\n",
    "        readout = dict(connector_location = '90', \n",
    "                 connector_type = '0', \n",
    "                 claw_length = '215um',\n",
    "                 ground_spacing = '10um', \n",
    "                 claw_gap = '5.1um', \n",
    "                 claw_width = '15um',\n",
    "                 claw_cpw_width = \"11.7um\",\n",
    "                 claw_cpw_length = '0um'\n",
    "                 ),\n",
    "    ),\n",
    "    cross_width = '30um',\n",
    "    cross_length = '240um',\n",
    "    cross_gap = '30um',\n",
    "    orientation = '-90',\n",
    "    pos_x = '-1500um',\n",
    "    aedt_hfss_inductance = 9.686E-9\n",
    ")\n",
    "\n",
    "claw2_opts = dict(\n",
    "    connection_pads=dict(\n",
    "        readout = dict(connector_location = '90', \n",
    "                 connector_type = '0', \n",
    "                 claw_length = '215.9um',\n",
    "                 ground_spacing = '9.1um', \n",
    "                 claw_gap = '5.1um', \n",
    "                 claw_width = '15.9um',\n",
    "                 claw_cpw_width = \"11.7um\",\n",
    "                 claw_cpw_length = 0),\n",
    "    ),\n",
    "    cross_width = '30.9um',\n",
    "    cross_length = '240.9um',\n",
    "    cross_gap = '29.1um',\n",
    "    orientation = '90',\n",
    "    pos_x = '1500um',\n",
    "    aedt_hfss_inductance = 11.268E-9\n",
    ")\n",
    "\n",
    "claw3_opts = dict(\n",
    "    connection_pads=dict(\n",
    "        readout = dict(connector_location = '90', \n",
    "                 connector_type = '0', \n",
    "                 claw_length = '185.9um',\n",
    "                 ground_spacing = '4.1um', \n",
    "                 claw_gap = '5.1um', \n",
    "                 claw_width = '15.9um',\n",
    "                 claw_cpw_width = \"11.7um\",\n",
    "                 claw_cpw_length = 0),\n",
    "    ),\n",
    "    cross_width = '30.9um',\n",
    "    cross_length = '200.9um',\n",
    "    cross_gap = '29.1um',\n",
    "    orientation = '90',\n",
    "    pos_x = '2000.9um',\n",
    "    aedt_hfss_inductance = 10.471E-9\n",
    ")\n",
    "\n",
    "claw4_opts = dict(\n",
    "    connection_pads=dict(\n",
    "        readout = dict(connector_location = '90', \n",
    "                 connector_type = '0', \n",
    "                 claw_length = '215.9um',\n",
    "                 ground_spacing = '9.1um', \n",
    "                 claw_gap = '5.1um', \n",
    "                 claw_width = '15.9um',\n",
    "                 claw_cpw_width = \"11.7um\",\n",
    "                 claw_cpw_length = '0'),\n",
    "    ),\n",
    "    cross_width = '30.9um',\n",
    "    cross_length = '240.9um',\n",
    "    cross_gap = '29.1um',\n",
    "    orientation = '-90',\n",
    "    pos_x = '-1500um',\n",
    "    aedt_hfss_inductance = 13.816E-9\n",
    ")\n",
    "\n",
    "claw5_opts = dict(\n",
    "    connection_pads=dict(\n",
    "        readout = dict(connector_location = '90', \n",
    "                 connector_type = '0', \n",
    "                 claw_length = '185um',\n",
    "                 ground_spacing = '5um', \n",
    "                 claw_gap = '5.1um', \n",
    "                 claw_width = '10um',\n",
    "                 claw_cpw_width = \"11.7um\",\n",
    "                 claw_cpw_length = 0),\n",
    "    ),\n",
    "    cross_width = '30um',\n",
    "    cross_length = '200um',\n",
    "    cross_gap = '30um',\n",
    "    orientation = '-90',\n",
    "    pos_x = '-2000um',\n",
    "    aedt_hfss_inductance = 13.235E-9\n",
    ")\n",
    "\n",
    "claw6_opts = dict(\n",
    "    connection_pads=dict(\n",
    "        c = dict(connector_location = '90', \n",
    "                 connector_type = '0', \n",
    "                 claw_length = '200.9um',\n",
    "                 ground_spacing = '10.9um', \n",
    "                 claw_gap = '5.1um', \n",
    "                 claw_width = '10.9um',\n",
    "                 claw_cpw_width = \"11.7um\",\n",
    "                 claw_cpw_length = '0'),\n",
    "    ),\n",
    "    cross_width = '30.9um',\n",
    "    cross_length = '220.9um',\n",
    "    cross_gap = '29.1um',\n",
    "    orientation = '90',\n",
    "    pos_x = '2000um',\n",
    "    aedt_hfss_inductance = 12.679E-9\n",
    ")\n",
    "\n",
    "cplr1_opts = Dict(prime_width = \"11.7um\",\n",
    "                prime_gap = '5.1um',\n",
    "                second_width = \"11.7um\",\n",
    "                second_gap = '5.1um',\n",
    "                coupling_space = '7.9um',\n",
    "                coupling_length = '225um',\n",
    "                open_termination = False,\n",
    "                orientation = '-90',\n",
    "                down_length = '50um')\n",
    "\n",
    "cplr2_opts = Dict(prime_width = \"11.7um\",\n",
    "                prime_gap = '5.1um',\n",
    "                second_width = \"11.7um\",\n",
    "                second_gap = '5.1um',\n",
    "                coupling_space = '7.9um',\n",
    "                coupling_length = '225um',\n",
    "                open_termination = False,\n",
    "                orientation = '90',\n",
    "                down_length = '50um')\n",
    "\n",
    "cplr3_opts = Dict(orientation = '90',\n",
    "                  prime_width = \"11.7um\",\n",
    "                  prime_gap = '5.1um',\n",
    "                  second_width = \"11.7um\",\n",
    "                  second_gap = '5.1um',\n",
    "                  cap_gap = '4.1um',\n",
    "                  cap_width = '10.9um',\n",
    "                  cap_gap_ground = '5.1um',\n",
    "                  finger_length = '30.9um',\n",
    "                  finger_count = '10',\n",
    "                  cap_distance = '50.9um',)\n",
    "\n",
    "cplr4_opts = Dict(prime_width = \"11.7um\",\n",
    "                prime_gap = '5.1um',\n",
    "                second_width = \"11.7um\",\n",
    "                second_gap = '5.1um',\n",
    "                coupling_space = '7.9um',\n",
    "                coupling_length = '225um',\n",
    "                open_termination = False,\n",
    "                orientation = '-90',\n",
    "                down_length = '50um')\n",
    "\n",
    "cplr5_opts = Dict(orientation = '-90',\n",
    "                  prime_width = \"11.7um\",\n",
    "                  prime_gap = '5.1um',\n",
    "                  second_width = \"11.7um\",\n",
    "                  second_gap = '5.1um',\n",
    "                  cap_gap = '4.1um',\n",
    "                  cap_width = '10.9um',\n",
    "                  cap_gap_ground = '5.1um',\n",
    "                  finger_length = '30.9um',\n",
    "                  finger_count = '7',\n",
    "                  cap_distance = '50.9um',)\n",
    "\n",
    "cplr6_opts = Dict(orientation = '90',\n",
    "                  prime_width = \"11.7um\",\n",
    "                  prime_gap = '5.1um',\n",
    "                  second_width = \"11.7um\",\n",
    "                  second_gap = '5.1um',\n",
    "                  cap_gap = '4.1um',\n",
    "                  cap_width = '10.9um',\n",
    "                  cap_gap_ground = '5.1um',\n",
    "                  finger_length = '30.9um',\n",
    "                  finger_count = '4',\n",
    "                  cap_distance = '50.9um',\n",
    "                  )"
   ]
  },
  {
   "cell_type": "code",
   "execution_count": 6,
   "metadata": {},
   "outputs": [],
   "source": [
    "wm1 = {\n",
    "    \"cpw_opts\" : [cpw1_opts, cpw2_opts, cpw3_opts, cpw4_opts, cpw5_opts, cpw6_opts],\n",
    "    \"claw_opts\" : [claw1_opts, claw2_opts, claw3_opts, claw4_opts, claw5_opts, claw6_opts],\n",
    "    \"coupler_opts\" : [cplr1_opts, cplr2_opts, cplr3_opts, cplr4_opts, cplr5_opts, cplr6_opts],\n",
    "}"
   ]
  },
  {
   "cell_type": "markdown",
   "metadata": {},
   "source": [
    "## MUNINN"
   ]
  },
  {
   "cell_type": "code",
   "execution_count": 7,
   "metadata": {},
   "outputs": [],
   "source": [
    "cpw1_opts = Dict(chip='main',\n",
    "                        fillet='50um',\n",
    "                        total_length = '3.58mm',\n",
    "                        lead = dict(start_straight = '10um', end_straight = '10um',\n",
    "                                   ), trace_width = '10um', meander= dict(spacing='120um', asymmetry='-0.15'))\n",
    "\n",
    "cpw2_opts = Dict(chip='main',\n",
    "                        fillet='50um',\n",
    "                        total_length = '3.5mm',\n",
    "                        lead = dict(start_straight = '10um', end_straight = '10um',\n",
    "                                   ), trace_width = '10um', meander= dict(spacing='120um', asymmetry='-0.15'))\n",
    "\n",
    "cpw3_opts = Dict(chip='main',\n",
    "                        fillet='50um',\n",
    "                        total_length = '3.46mm',\n",
    "                        lead = dict(start_straight = '10um', end_straight = '10um',\n",
    "                                   ), trace_width = '10um', meander= dict(spacing='120um', asymmetry='-0.15'))\n",
    "\n",
    "claw1_opts = dict(chip='main', make_fl=False, cross_gap = '30um', cross_width = '30um', cross_length= '185um', \n",
    "    connection_pads=dict(\n",
    "        dl1 = dict(connector_location = '0', connector_type = '1', ground_spacing='30um'),\n",
    "        b1 = dict(connector_location = '180', connector_type = '0', claw_length = '115um', claw_width = '7um', claw_gap= '6um', ground_spacing='4um'),\n",
    "        r1 = dict(connector_location = '90', connector_type = '0', claw_length = '140um', claw_width = '10um', claw_gap= '6um', ground_spacing='10um'), \n",
    "    \n",
    "    ),\n",
    ")\n",
    "\n",
    "claw2_opts = dict(chip='main', make_fl=False, cross_gap = '30um', cross_width = '30um', cross_length= '205um', \n",
    "    connection_pads=dict(\n",
    "        #dl2 = dict( connector_location = '180', connector_type = '1', ground_spacing='120um'),\n",
    "        b2 = dict(connector_location = '-180', connector_type = '0', claw_length = '110um', claw_width = '7um', claw_gap= '6um', ground_spacing='4um'),\n",
    "        r2 = dict(connector_location = '90', connector_type = '0', claw_length = '135um', claw_width = '10um', claw_gap= '6um', ground_spacing='10um'), \n",
    "        b22 = dict(connector_location = '180', connector_type = '0', claw_length = '145um', claw_width = '7um', claw_gap= '6um', ground_spacing='4um'),\n",
    "    ),\n",
    ")\n",
    "\n",
    "claw3_opts = Dict(chip='main', make_fl=False, cross_gap = '30um', cross_width = '30um', cross_length= '195um', \n",
    "    connection_pads = dict(\n",
    "        #dl2 = dict( connector_location = '180', connector_type = '1'),\n",
    "        b3 = dict(connector_location = '-180', connector_type = '0', claw_length = '130um', claw_width = '7um', claw_gap= '6um'),\n",
    "        r3 = dict(connector_location = '90', connector_type = '0', claw_length = '110um', claw_width = '10um', claw_gap= '6um', ground_spacing='10um'), \n",
    "    \n",
    "    ),\n",
    ")\n",
    "\n",
    "cplr1_opts = Dict(coupling_length='200um', coupling_space='7um', down_length='30um', open_termination=False)\n",
    "cplr2_opts = Dict(coupling_length='200um', coupling_space='7um', down_length='30um', open_termination=False)\n",
    "cplr3_opts = Dict(coupling_length='200um', coupling_space='7um', down_length='30um', open_termination=False)"
   ]
  },
  {
   "cell_type": "code",
   "execution_count": 8,
   "metadata": {},
   "outputs": [],
   "source": [
    "muninn = {\n",
    "    \"cpw_opts\" : [cpw1_opts, cpw2_opts, cpw3_opts],\n",
    "    \"claw_opts\" : [claw1_opts, claw2_opts, claw3_opts],\n",
    "    \"coupler_opts\" : [cplr1_opts, cplr2_opts, cplr3_opts],\n",
    "}"
   ]
  },
  {
   "cell_type": "code",
   "execution_count": 9,
   "metadata": {},
   "outputs": [],
   "source": [
    "devices = {\n",
    "    \"wm1\" : wm1,\n",
    "    \"muninn\" : muninn\n",
    "}"
   ]
  },
  {
   "cell_type": "markdown",
   "metadata": {},
   "source": [
    "### Create Cavity"
   ]
  },
  {
   "cell_type": "code",
   "execution_count": 8,
   "metadata": {},
   "outputs": [],
   "source": [
    "design = metal.designs.design_planar.DesignPlanar()\n",
    "gui = metal.MetalGUI(design)\n",
    "design.overwrite_enabled = True\n",
    "\n",
    "design._chips.main.size.size_x = '5mm'\n",
    "design._chips.main.size.size_y = '5mm'"
   ]
  },
  {
   "cell_type": "code",
   "execution_count": 10,
   "metadata": {},
   "outputs": [],
   "source": [
    "# Create a new Transmon Cross object with name 'Q'\n",
    "claw_options = dict(\n",
    "    connection_pads=dict(\n",
    "        readout = dict(connector_location = '90', \n",
    "                 connector_type = '0', \n",
    "                 claw_length = '215um',\n",
    "                 ground_spacing = '10um', \n",
    "                 claw_gap = '5.1um', \n",
    "                 claw_width = '15um',\n",
    "                 claw_cpw_length = '0um'\n",
    "                 ),\n",
    "    ),\n",
    "    cross_width = '30um',\n",
    "    cross_length = '240um',\n",
    "    cross_gap = '30um',\n",
    "    orientation = '-90',\n",
    "    pos_x = '-1500um',\n",
    "    aedt_hfss_inductance = 9.686E-9\n",
    ")\n",
    "claw = TransmonClaw(design, 'claw', options=claw_options)"
   ]
  },
  {
   "cell_type": "code",
   "execution_count": 5,
   "metadata": {},
   "outputs": [],
   "source": [
    "# Create a CoupledLineTee object with name 'clt'\n",
    "clt_opts = Dict(prime_width = cpw_width,\n",
    "                prime_gap = '5.1um',\n",
    "                second_width = cpw_width,\n",
    "                second_gap = '5.1um',\n",
    "                coupling_space = '7.9um',\n",
    "                coupling_length = '225um',\n",
    "                open_termination = False,\n",
    "                orientation = '-90',\n",
    "                down_length = '50um'\n",
    ")\n",
    "clt = CoupledLineTee(design, 'clt', clt_opts)   "
   ]
  },
  {
   "cell_type": "code",
   "execution_count": 7,
   "metadata": {},
   "outputs": [],
   "source": [
    "# Create a CPW (RouteMeander object) with name 'cpw'\n",
    "cpw_opts = Dict(pin_inputs = Dict(start_pin = Dict(component = 'clt',\n",
    "                                                    pin = 'second_end'),\n",
    "                                   end_pin = Dict(component = 'claw',\n",
    "                                                  pin = 'readout')),\n",
    "                lead = Dict(\n",
    "                    start_straight = '70um',\n",
    "                    end_straight = '70um',\n",
    "                ),\n",
    "                fillet = '49.9um',\n",
    "                total_length = '3900um',\n",
    "                trace_width = cpw_width,\n",
    "                meander = Dict(spacing = '100um',\n",
    "                               asymmetry = '-150um'\n",
    "                               ),\n",
    "                trace_gap = '5.1um',\n",
    ")\n",
    "cpw = RouteMeander(design, 'cpw', options = cpw_opts)"
   ]
  },
  {
   "cell_type": "code",
   "execution_count": 18,
   "metadata": {},
   "outputs": [],
   "source": [
    "def create_claw(opts):\n",
    "    claw = TransmonClaw(design, 'claw', options=opts)\n",
    "\n",
    "def create_coupler(opts):\n",
    "    cplr = CapNInterdigitalTee(design, 'cplr', options = opts) if \"finger_count\" in opts.keys() else CoupledLineTee(design, 'cplr', options = opts)\n",
    "\n",
    "def create_cpw(opts):\n",
    "    opts.update({\"pin_inputs\" : Dict(start_pin = Dict(component = 'cplr',\n",
    "                                                    pin = 'second_end'),\n",
    "                                   end_pin = Dict(component = 'claw',\n",
    "                                                  pin = 'readout'))})\n",
    "    cpw = RouteMeander(design, 'cpw', options = opts)"
   ]
  },
  {
   "cell_type": "markdown",
   "metadata": {},
   "source": [
    "## Creating a Simulation Unit"
   ]
  },
  {
   "cell_type": "code",
   "execution_count": 10,
   "metadata": {},
   "outputs": [],
   "source": [
    "create_claw(devices[\"wm1\"][\"claw_opts\"][0])\n",
    "create_coupler(devices[\"wm1\"][\"coupler_opts\"][0])\n",
    "create_cpw(devices[\"wm1\"][\"cpw_opts\"][0])\n",
    "gui.rebuild()\n",
    "gui.autoscale()"
   ]
  },
  {
   "cell_type": "markdown",
   "metadata": {},
   "source": [
    "# Simulation Engine"
   ]
  },
  {
   "cell_type": "markdown",
   "metadata": {},
   "source": [
    "# EPR Simulation (Qubit + Cavity)"
   ]
  },
  {
   "cell_type": "markdown",
   "metadata": {},
   "source": [
    "### Sim Time"
   ]
  },
  {
   "cell_type": "code",
   "execution_count": 27,
   "metadata": {},
   "outputs": [],
   "source": [
    "from qiskit_metal.analyses.quantization import EPRanalysis\n",
    "from qiskit_metal.renderers.renderer_ansys_pyaedt.hfss_renderer_eigenmode_aedt import QHFSSEigenmodePyaedt\n",
    "\n",
    "import pyEPR as epr"
   ]
  },
  {
   "cell_type": "code",
   "execution_count": 11,
   "metadata": {},
   "outputs": [],
   "source": [
    "#Simulate Q1 + bus coupling strength\n",
    "\n",
    "eig_q12bus = EPRanalysis(design, \"hfss\")\n",
    "hfss1 = eig_q12bus.sim.renderer\n",
    "eig_q12bus.sim.setup.max_passes = 50\n",
    "eig_q12bus.sim.setup.max_delta_f = 0.05\n",
    "eig_q12bus.sim.setup.min_converged_passes = 2\n",
    "eig_q12bus.sim.setup.n_modes = 1\n",
    "\n",
    "# Create sim setup vars\n",
    "sim_setup_var_dict = dict()\n",
    "# for i, name in enumerate(qubit_names):\n",
    "#     i += 1\n",
    "#     key_Lj = f'Lj{i}'\n",
    "#     key_Cj = f'Cj{i}'\n",
    "sim_setup_var_dict[\"Lj\"] = str(design.components[\"Q\"].options['hfss_inductance']) + ' H'\n",
    "sim_setup_var_dict[\"Cj\"] = str(design.components[\"Q\"].options['hfss_capacitance']) + ' F'\n",
    "\n",
    "eig_q12bus.sim.setup.vars = sim_setup_var_dict\n",
    "\n",
    "\n",
    "gui.rebuild()  # line needed to propagate the updates from the qubit instance into the junction design table\n",
    "gui.autoscale()\n"
   ]
  },
  {
   "cell_type": "code",
   "execution_count": 13,
   "metadata": {},
   "outputs": [
    {
     "name": "stderr",
     "output_type": "stream",
     "text": [
      "INFO 12:33PM [connect_design]: \tOpened active design\n",
      "\tDesign:    cavity_test_v1.0_hfss [Solution type: Eigenmode]\n"
     ]
    },
    {
     "name": "stdout",
     "output_type": "stream",
     "text": [
      "creaing porst\n"
     ]
    },
    {
     "name": "stderr",
     "output_type": "stream",
     "text": [
      "INFO 12:33PM [get_setup]: \tOpened setup `Setup`  (<class 'pyEPR.ansys.HfssEMSetup'>)\n",
      "INFO 12:33PM [analyze]: Analyzing setup Setup\n",
      "12:49PM 43s INFO [get_f_convergence]: Saved convergences to d:\\andre\\cavity_sweeps\\hfss_eig_f_convergence.csv\n"
     ]
    },
    {
     "data": {
      "image/png": "[encoded data removed]",
      "text/plain": [
       "<Figure size 1100x300 with 4 Axes>"
      ]
     },
     "metadata": {},
     "output_type": "display_data"
    }
   ],
   "source": [
    "%matplotlib inline\n",
    "\n",
    "hfss = eig_q12bus.sim.renderer\n",
    "\n",
    "eig_q12bus.sim.run(name = \"cavity_test_v1.0\",\n",
    "                   components = [\"Q\", \"cpw\", \"clt\"],\n",
    "                   open_terminations = [(\"clt\", \"prime_start\"), (\"clt\", \"prime_end\")],\n",
    "                   port_list = [(\"clt\", \"prime_start\", \"50\"), (\"clt\", \"prime_end\", \"50\")])\n",
    "\n",
    "### Plot convergences\n",
    "eig_q12bus.sim.plot_convergences()"
   ]
  },
  {
   "cell_type": "code",
   "execution_count": 29,
   "metadata": {},
   "outputs": [
    {
     "ename": "AttributeError",
     "evalue": "'QHFSSRenderer' object has no attribute 'epr_distributed_analysis'",
     "output_type": "error",
     "traceback": [
      "\u001b[1;31m---------------------------------------------------------------------------\u001b[0m",
      "\u001b[1;31mAttributeError\u001b[0m                            Traceback (most recent call last)",
      "\u001b[1;32md:\\andre\\cavity_sweeps\\cavity_sweeper.ipynb Cell 29\u001b[0m line \u001b[0;36m1\n\u001b[1;32m----> <a href='vscode-notebook-cell:/d%3A/andre/cavity_sweeps/cavity_sweeper.ipynb#X22sZmlsZQ%3D%3D?line=0'>1</a>\u001b[0m f \u001b[39m=\u001b[39m eig_q12bus\u001b[39m.\u001b[39;49mget_frequencies()\n\u001b[0;32m      <a href='vscode-notebook-cell:/d%3A/andre/cavity_sweeps/cavity_sweeper.ipynb#X22sZmlsZQ%3D%3D?line=2'>3</a>\u001b[0m freq \u001b[39m=\u001b[39m f\u001b[39m.\u001b[39mvalues[\u001b[39m0\u001b[39m][\u001b[39m0\u001b[39m] \u001b[39m*\u001b[39m \u001b[39m1e9\u001b[39m\n\u001b[0;32m      <a href='vscode-notebook-cell:/d%3A/andre/cavity_sweeps/cavity_sweeper.ipynb#X22sZmlsZQ%3D%3D?line=3'>4</a>\u001b[0m Q \u001b[39m=\u001b[39m f\u001b[39m.\u001b[39mvalues[\u001b[39m0\u001b[39m][\u001b[39m1\u001b[39m]\n",
      "File \u001b[1;32mc:\\users\\lfl\\qiskit-metal\\qiskit_metal\\analyses\\quantization\\energy_participation_ratio.py:238\u001b[0m, in \u001b[0;36mEPRanalysis.get_frequencies\u001b[1;34m(self)\u001b[0m\n\u001b[0;32m    234\u001b[0m \u001b[39m\u001b[39m\u001b[39m\"\"\"Short-cut to the same-name method found in renderers.ansys_renderer.py.\u001b[39;00m\n\u001b[0;32m    235\u001b[0m \u001b[39mEventually, the analysis code needs to be only here, and the renderer method deprecated.\u001b[39;00m\n\u001b[0;32m    236\u001b[0m \u001b[39m\"\"\"\u001b[39;00m\n\u001b[0;32m    237\u001b[0m system \u001b[39m=\u001b[39m \u001b[39mself\u001b[39m\u001b[39m.\u001b[39mepr_start(no_junctions\u001b[39m=\u001b[39m\u001b[39mTrue\u001b[39;00m)\n\u001b[1;32m--> 238\u001b[0m \u001b[39mreturn\u001b[39;00m \u001b[39mself\u001b[39;49m\u001b[39m.\u001b[39;49msim\u001b[39m.\u001b[39;49mrenderer\u001b[39m.\u001b[39;49mepr_get_frequencies(\u001b[39m*\u001b[39;49m\u001b[39m*\u001b[39;49msystem)\n",
      "File \u001b[1;32mc:\\users\\lfl\\qiskit-metal\\qiskit_metal\\renderers\\renderer_ansys\\ansys_renderer.py:1803\u001b[0m, in \u001b[0;36mQAnsysRenderer.epr_get_frequencies\u001b[1;34m(self, junctions, dissipatives)\u001b[0m\n\u001b[0;32m   1801\u001b[0m \u001b[39m# TODO: do I need to reset self.pinfo.junctions (does it keep the older analysis one)\u001b[39;00m\n\u001b[0;32m   1802\u001b[0m \u001b[39mself\u001b[39m\u001b[39m.\u001b[39mepr_start(junctions, dissipatives)\n\u001b[1;32m-> 1803\u001b[0m \u001b[39mreturn\u001b[39;00m \u001b[39mself\u001b[39;49m\u001b[39m.\u001b[39;49mepr_distributed_analysis\u001b[39m.\u001b[39mget_ansys_frequencies_all()\n",
      "\u001b[1;31mAttributeError\u001b[0m: 'QHFSSRenderer' object has no attribute 'epr_distributed_analysis'"
     ]
    }
   ],
   "source": [
    "f = eig_q12bus.get_frequencies()\n",
    "\n",
    "freq = f.values[0][0] * 1e9\n",
    "Q = f.values[0][1]\n",
    "kappa = freq / Q"
   ]
  },
  {
   "cell_type": "code",
   "execution_count": 16,
   "metadata": {},
   "outputs": [
    {
     "name": "stdout",
     "output_type": "stream",
     "text": [
      "freq = 6.242 GHz\n",
      "Q = 100384.1\n",
      "kappa = 0.062 MHz\n"
     ]
    }
   ],
   "source": [
    "print(f\"freq = {round(freq/1e9, 3)} GHz\")\n",
    "print(f\"Q = {round(Q, 1)}\")\n",
    "print(f\"kappa = {round(kappa/1e6, 3)} MHz\")"
   ]
  },
  {
   "cell_type": "markdown",
   "metadata": {},
   "source": [
    "# LOM Analysis"
   ]
  },
  {
   "cell_type": "code",
   "execution_count": 2,
   "metadata": {},
   "outputs": [],
   "source": [
    "qubit_names = [f'Q{i}' for i in range(1,7)]\n",
    "for name in qubit_names:\n",
    "    Lj = design.components[name].options['aedt_hfss_inductance']\n",
    "    design.components[name].options['q3d_inductance'] = str(Lj) + \"H\"\n",
    "design.rebuild()"
   ]
  },
  {
   "cell_type": "code",
   "execution_count": 3,
   "metadata": {},
   "outputs": [],
   "source": [
    "from qiskit_metal.analyses.quantization import LOManalysis\n",
    "c1 = LOManalysis(design, \"q3d\")"
   ]
  },
  {
   "cell_type": "code",
   "execution_count": 4,
   "metadata": {},
   "outputs": [
    {
     "data": {
      "text/plain": [
       "{'name': 'lom_setup',\n",
       " 'reuse_selected_design': False,\n",
       " 'reuse_setup': False,\n",
       " 'freq_ghz': 5.0,\n",
       " 'save_fields': False,\n",
       " 'enabled': True,\n",
       " 'max_passes': 30,\n",
       " 'min_passes': 2,\n",
       " 'min_converged_passes': 1,\n",
       " 'percent_error': 0.1,\n",
       " 'percent_refinement': 30,\n",
       " 'auto_increase_solution_order': 'False',\n",
       " 'solution_order': 'Medium',\n",
       " 'solver_type': 'Iterative'}"
      ]
     },
     "execution_count": 4,
     "metadata": {},
     "output_type": "execute_result"
    }
   ],
   "source": [
    "c1.sim.setup.reuse_selected_design = False\n",
    "c1.sim.setup.reuse_setup = False\n",
    "\n",
    "# example: update single setting\n",
    "c1.sim.setup.max_passes = 30\n",
    "c1.sim.setup.min_converged_passes = 1\n",
    "c1.sim.setup.percent_error = 0.1\n",
    "c1.sim.setup.auto_increase_solution_order = 'False'\n",
    "c1.sim.setup.solution_order = 'Medium'\n",
    "\n",
    "c1.sim.setup.name = 'lom_setup'\n",
    "\n",
    "# import inspect\n",
    "# inspect.signature(c1.sim.renderer.modeler.mesh_length)\n",
    "# c1.sim.renderer.modeler.mesh_length('ground_strip_mesh', ['ground_main_plane'], MaxLength = '3um')\n",
    "# c1.sim.renderer.modeler.mesh_length('claw_mesh', ['c_connector_arm_Q1'], MaxLength = '5um')\n",
    "# c1.sim.renderer.modeler.mesh_length('cross_mesh', ['cross_Q1'], MaxLength = '10um')\n",
    "\n",
    "\n",
    "# .mesh_length('ground_strip', ['ground_main_plane'], MaxLength = '0.003mm')\n",
    "c1.sim.setup\n",
    "\n",
    "# c1"
   ]
  },
  {
   "cell_type": "code",
   "execution_count": null,
   "metadata": {},
   "outputs": [],
   "source": [
    "c1.sim.renderer.start()"
   ]
  },
  {
   "cell_type": "code",
   "execution_count": null,
   "metadata": {},
   "outputs": [],
   "source": [
    "import inspect\n",
    "\n",
    "inspect.signature(c1.sim.renderer.add_mesh)"
   ]
  },
  {
   "cell_type": "code",
   "execution_count": null,
   "metadata": {},
   "outputs": [],
   "source": [
    "c1.sim.renderer.clean_active_design()\n",
    "c1.sim.renderer.render_design(['Q1'], [('Q1','c')])"
   ]
  },
  {
   "cell_type": "code",
   "execution_count": null,
   "metadata": {},
   "outputs": [],
   "source": [
    "c1.sim.setup"
   ]
  },
  {
   "cell_type": "code",
   "execution_count": null,
   "metadata": {},
   "outputs": [],
   "source": [
    "c1.sim.renderer.analyze_setup(c1.sim.setup.name)"
   ]
  },
  {
   "cell_type": "code",
   "execution_count": 5,
   "metadata": {},
   "outputs": [
    {
     "name": "stderr",
     "output_type": "stream",
     "text": [
      "INFO 02:35PM [connect_project]: Connecting to Ansys Desktop API...\n",
      "INFO 02:35PM [load_ansys_project]: \tOpened Ansys App\n",
      "INFO 02:35PM [load_ansys_project]: \tOpened Ansys Desktop v2021.1.0\n",
      "INFO 02:35PM [load_ansys_project]: \tOpened Ansys Project\n",
      "\tFolder:    D:/lfl/Documents/Ansoft/\n",
      "\tProject:   Project31\n",
      "INFO 02:35PM [connect_design]: \tOpened active design\n",
      "\tDesign:    LOMv2.0_q3d2 [Solution type: Q3D]\n",
      "INFO 02:35PM [get_setup]: \tOpened setup `Setup`  (<class 'pyEPR.ansys.AnsysQ3DSetup'>)\n",
      "INFO 02:35PM [connect]: \tConnected to project \"Project31\" and design \"LOMv2.0_q3d2\" 😀 \n",
      "\n",
      "INFO 02:35PM [connect_design]: \tOpened active design\n",
      "\tDesign:    LOMv2.0_q3d3 [Solution type: Q3D]\n",
      "WARNING 02:35PM [connect_setup]: \tNo design setup detected.\n",
      "WARNING 02:35PM [connect_setup]: \tCreating Q3D default setup.\n",
      "INFO 02:35PM [get_setup]: \tOpened setup `Setup`  (<class 'pyEPR.ansys.AnsysQ3DSetup'>)\n"
     ]
    },
    {
     "name": "stdout",
     "output_type": "stream",
     "text": [
      "<COMObject GetModule>\n"
     ]
    },
    {
     "name": "stderr",
     "output_type": "stream",
     "text": [
      "INFO 02:35PM [get_setup]: \tOpened setup `lom_setup`  (<class 'pyEPR.ansys.AnsysQ3DSetup'>)\n",
      "INFO 02:35PM [analyze]: Analyzing setup lom_setup\n",
      "INFO 02:37PM [get_matrix]: Exporting matrix data to (C:\\Users\\lfl\\AppData\\Local\\Temp\\tmptltgiawn.txt, C, , lom_setup:LastAdaptive, \"Original\", \"ohm\", \"nH\", \"fF\", \"mSie\", 5000000000, Maxwell, 1, False\n",
      "INFO 02:37PM [get_matrix]: Exporting matrix data to (C:\\Users\\lfl\\AppData\\Local\\Temp\\tmpy6d8_8ay.txt, C, , lom_setup:AdaptivePass, \"Original\", \"ohm\", \"nH\", \"fF\", \"mSie\", 5000000000, Maxwell, 1, False\n",
      "INFO 02:37PM [get_matrix]: Exporting matrix data to (C:\\Users\\lfl\\AppData\\Local\\Temp\\tmp50aqu83x.txt, C, , lom_setup:AdaptivePass, \"Original\", \"ohm\", \"nH\", \"fF\", \"mSie\", 5000000000, Maxwell, 2, False\n",
      "INFO 02:37PM [get_matrix]: Exporting matrix data to (C:\\Users\\lfl\\AppData\\Local\\Temp\\tmpcuookl0o.txt, C, , lom_setup:AdaptivePass, \"Original\", \"ohm\", \"nH\", \"fF\", \"mSie\", 5000000000, Maxwell, 3, False\n",
      "INFO 02:37PM [get_matrix]: Exporting matrix data to (C:\\Users\\lfl\\AppData\\Local\\Temp\\tmpnfdjjox0.txt, C, , lom_setup:AdaptivePass, \"Original\", \"ohm\", \"nH\", \"fF\", \"mSie\", 5000000000, Maxwell, 4, False\n",
      "INFO 02:37PM [get_matrix]: Exporting matrix data to (C:\\Users\\lfl\\AppData\\Local\\Temp\\tmpmv_nu2jw.txt, C, , lom_setup:AdaptivePass, \"Original\", \"ohm\", \"nH\", \"fF\", \"mSie\", 5000000000, Maxwell, 5, False\n",
      "INFO 02:37PM [get_matrix]: Exporting matrix data to (C:\\Users\\lfl\\AppData\\Local\\Temp\\tmpxj7eetvq.txt, C, , lom_setup:AdaptivePass, \"Original\", \"ohm\", \"nH\", \"fF\", \"mSie\", 5000000000, Maxwell, 6, False\n",
      "INFO 02:37PM [get_matrix]: Exporting matrix data to (C:\\Users\\lfl\\AppData\\Local\\Temp\\tmpl3wyux4p.txt, C, , lom_setup:AdaptivePass, \"Original\", \"ohm\", \"nH\", \"fF\", \"mSie\", 5000000000, Maxwell, 7, False\n",
      "INFO 02:37PM [get_matrix]: Exporting matrix data to (C:\\Users\\lfl\\AppData\\Local\\Temp\\tmps75s8fil.txt, C, , lom_setup:AdaptivePass, \"Original\", \"ohm\", \"nH\", \"fF\", \"mSie\", 5000000000, Maxwell, 8, False\n",
      "INFO 02:37PM [get_matrix]: Exporting matrix data to (C:\\Users\\lfl\\AppData\\Local\\Temp\\tmpvci0yjcf.txt, C, , lom_setup:AdaptivePass, \"Original\", \"ohm\", \"nH\", \"fF\", \"mSie\", 5000000000, Maxwell, 9, False\n",
      "INFO 02:37PM [get_matrix]: Exporting matrix data to (C:\\Users\\lfl\\AppData\\Local\\Temp\\tmpzk677s4s.txt, C, , lom_setup:AdaptivePass, \"Original\", \"ohm\", \"nH\", \"fF\", \"mSie\", 5000000000, Maxwell, 10, False\n",
      "INFO 02:37PM [get_matrix]: Exporting matrix data to (C:\\Users\\lfl\\AppData\\Local\\Temp\\tmp909sbqqy.txt, C, , lom_setup:AdaptivePass, \"Original\", \"ohm\", \"nH\", \"fF\", \"mSie\", 5000000000, Maxwell, 11, False\n",
      "INFO 02:37PM [get_matrix]: Exporting matrix data to (C:\\Users\\lfl\\AppData\\Local\\Temp\\tmp_9ppoix8.txt, C, , lom_setup:AdaptivePass, \"Original\", \"ohm\", \"nH\", \"fF\", \"mSie\", 5000000000, Maxwell, 12, False\n",
      "INFO 02:37PM [get_matrix]: Exporting matrix data to (C:\\Users\\lfl\\AppData\\Local\\Temp\\tmp7u895dg6.txt, C, , lom_setup:AdaptivePass, \"Original\", \"ohm\", \"nH\", \"fF\", \"mSie\", 5000000000, Maxwell, 13, False\n",
      "INFO 02:37PM [get_matrix]: Exporting matrix data to (C:\\Users\\lfl\\AppData\\Local\\Temp\\tmpmzx375mt.txt, C, , lom_setup:AdaptivePass, \"Original\", \"ohm\", \"nH\", \"fF\", \"mSie\", 5000000000, Maxwell, 14, False\n",
      "INFO 02:37PM [get_matrix]: Exporting matrix data to (C:\\Users\\lfl\\AppData\\Local\\Temp\\tmpsaz5raxz.txt, C, , lom_setup:AdaptivePass, \"Original\", \"ohm\", \"nH\", \"fF\", \"mSie\", 5000000000, Maxwell, 15, False\n"
     ]
    },
    {
     "name": "stdout",
     "output_type": "stream",
     "text": [
      "For Qubit 5, the cap matrix is...\n",
      "                           cross_Q5  ground_main_plane  \\\n",
      "cross_Q5                  107.99821         -100.06452   \n",
      "ground_main_plane        -100.06452          233.20357   \n",
      "readout_connector_arm_Q5   -5.72699          -80.48496   \n",
      "\n",
      "                          readout_connector_arm_Q5  \n",
      "cross_Q5                                  -5.72699  \n",
      "ground_main_plane                        -80.48496  \n",
      "readout_connector_arm_Q5                  86.54171  \n"
     ]
    }
   ],
   "source": [
    "all_cap_matricies = []\n",
    "\n",
    "for i, name in enumerate(qubit_names):\n",
    "    i += 1\n",
    "    if i != 5:\n",
    "        continue\n",
    "\n",
    "    ### Render design\n",
    "    # if i == 3 or i == 5 or i == 6: # Finger coupler\n",
    "    #     selection = [f'Q{i}']\n",
    "    #     open_pins = [(f'Q{i}', 'c')]\n",
    "    # else: # Hanging resonator coupler\n",
    "    #     selection = [f'Q{i}', f'cpw{i}', f'clt{i}']\n",
    "    #     open_pins = [(f'clt{i}', 'prime_start'), (f'clt{i}', 'prime_end')]\n",
    "\n",
    "    selection = [f'Q{i}']\n",
    "    open_pins = [(f'Q{i}', 'readout')]\n",
    "\n",
    "\n",
    "    c1.sim.run(name = 'LOMv2.0', components=selection,\n",
    "               open_terminations=open_pins)\n",
    "    cap_df = c1.sim.capacitance_matrix\n",
    "\n",
    "    all_cap_matricies.append(cap_df)\n",
    "\n",
    "    print(f'For Qubit {i}, the cap matrix is...')\n",
    "    print(cap_df)"
   ]
  },
  {
   "cell_type": "code",
   "execution_count": null,
   "metadata": {},
   "outputs": [],
   "source": [
    "q3d = c1.sim.renderer\n",
    "\n",
    "q3d.start()\n",
    "q3d.activate_ansys_design(\"xmon_v1.0\", 'capacitive')\n",
    "\n",
    "q3d.render_design(['Q1'], [('Q1','c')])"
   ]
  },
  {
   "cell_type": "code",
   "execution_count": null,
   "metadata": {},
   "outputs": [],
   "source": [
    "c1.sim.setup.name"
   ]
  },
  {
   "cell_type": "code",
   "execution_count": null,
   "metadata": {},
   "outputs": [],
   "source": [
    "q3d.analyze_setup(c1.sim.setup.name)"
   ]
  },
  {
   "cell_type": "code",
   "execution_count": null,
   "metadata": {},
   "outputs": [],
   "source": [
    "c1.sim.renderer.pinfo.get_setup('Setup')"
   ]
  },
  {
   "cell_type": "code",
   "execution_count": null,
   "metadata": {},
   "outputs": [],
   "source": [
    "c1.sim.capacitance_matrix, c1.sim.units = q3d.get_capacitance_matrix()\n",
    "c1.sim.capacitance_all_passes, _ = q3d.get_capacitance_all_passes()\n",
    "c1.sim.capacitance_matrix"
   ]
  },
  {
   "cell_type": "code",
   "execution_count": null,
   "metadata": {},
   "outputs": [],
   "source": [
    "import json\n",
    "from datetime import datetime\n",
    "\n",
    "def save_simulation_data_to_json(data):\n",
    "    current_time = datetime.now().strftime(\"%Y%m%d_%H%M%S\")\n",
    "    filename = f\"simulation_data_{123}.json\"\n",
    "    \n",
    "    # with open(filename, 'a') as outfile:\n",
    "    #     json.dump(data, outfile, indent=4)\n",
    "\n",
    "    with open(filename, 'a+') as f:\n",
    "        d = json.load(f)\n",
    "\n",
    "    d.update(data)\n",
    "\n",
    "    with open(filename, 'a+') as f:\n",
    "        json.dump(d, f, indent = 4)"
   ]
  },
  {
   "cell_type": "code",
   "execution_count": null,
   "metadata": {},
   "outputs": [],
   "source": [
    "c1.sim.renderer."
   ]
  }
 ],
 "metadata": {
  "hide_input": false,
  "kernelspec": {
   "display_name": "Python 3 (ipykernel)",
   "language": "python",
   "name": "python3"
  },
  "language_info": {
   "codemirror_mode": {
    "name": "ipython",
    "version": 3
   },
   "file_extension": ".py",
   "mimetype": "text/x-python",
   "name": "python",
   "nbconvert_exporter": "python",
   "pygments_lexer": "ipython3",
   "version": "3.10.6"
  },
  "toc": {
   "base_numbering": 1,
   "nav_menu": {},
   "number_sections": true,
   "sideBar": false,
   "skip_h1_title": false,
   "title_cell": "Table of Contents",
   "title_sidebar": "Contents",
   "toc_cell": false,
   "toc_position": {},
   "toc_section_display": true,
   "toc_window_display": false
  }
 },
 "nbformat": 4,
 "nbformat_minor": 4
}
