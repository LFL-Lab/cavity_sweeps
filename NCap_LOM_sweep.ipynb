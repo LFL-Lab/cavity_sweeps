{
 "cells": [
  {
   "cell_type": "code",
   "execution_count": 1,
   "metadata": {},
   "outputs": [],
   "source": [
    "from utils import *\n",
    "from objects import *\n",
    "from sweeper_helperfunctions import *"
   ]
  },
  {
   "cell_type": "code",
   "execution_count": 2,
   "metadata": {},
   "outputs": [],
   "source": [
    "design = metal.designs.design_planar.DesignPlanar()\n",
    "gui = metal.MetalGUI(design)\n",
    "design.overwrite_enabled = True"
   ]
  },
  {
   "cell_type": "code",
   "execution_count": 3,
   "metadata": {},
   "outputs": [],
   "source": [
    "cplr_sweep_opts = Dict(\n",
    "                #   orientation = '-90',\n",
    "                  prime_width = \"11.7um\",\n",
    "                  prime_gap = '5.1um',\n",
    "                  second_width = '11.7um',\n",
    "                  second_gap = '5.1um',\n",
    "                  cap_gap = [f\"{2.1+2*i}um\" for i in range(4)],\n",
    "                  cap_width = [f\"{4.9+2*i}um\" for i in range(6)],\n",
    "                  cap_gap_ground = '5.1um',\n",
    "                  finger_length = [f\"{15.9+10*i}um\" for i in range(4)],\n",
    "                  finger_count = [f\"{i+1}\" for i in range(10)],\n",
    "                  cap_distance = '50.9um',\n",
    "                  )"
   ]
  },
  {
   "cell_type": "code",
   "execution_count": 4,
   "metadata": {},
   "outputs": [
    {
     "name": "stderr",
     "output_type": "stream",
     "text": [
      "INFO 12:15PM [connect_project]: Connecting to Ansys Desktop API...\n",
      "INFO 12:15PM [load_ansys_project]: \tOpened Ansys App\n",
      "INFO 12:15PM [load_ansys_project]: \tOpened Ansys Desktop v2021.1.0\n",
      "INFO 12:15PM [load_ansys_project]: \tOpened Ansys Project\n",
      "\tFolder:    D:/lfl/Documents/Ansoft/\n",
      "\tProject:   Project35\n",
      "INFO 12:15PM [connect_design]: \tOpened active design\n",
      "\tDesign:    LOMv2.01_q3d4 [Solution type: Q3D]\n",
      "INFO 12:15PM [get_setup]: \tOpened setup `Setup`  (<class 'pyEPR.ansys.AnsysQ3DSetup'>)\n",
      "INFO 12:15PM [connect]: \tConnected to project \"Project35\" and design \"LOMv2.01_q3d4\" 😀 \n",
      "\n",
      "INFO 12:15PM [connect_design]: \tOpened active design\n",
      "\tDesign:    LOMv2.01_q3d5 [Solution type: Q3D]\n",
      "WARNING 12:15PM [connect_setup]: \tNo design setup detected.\n",
      "WARNING 12:15PM [connect_setup]: \tCreating Q3D default setup.\n",
      "INFO 12:15PM [get_setup]: \tOpened setup `Setup`  (<class 'pyEPR.ansys.AnsysQ3DSetup'>)\n",
      "INFO 12:15PM [get_setup]: \tOpened setup `lom_setup`  (<class 'pyEPR.ansys.AnsysQ3DSetup'>)\n",
      "INFO 12:15PM [analyze]: Analyzing setup lom_setup\n"
     ]
    },
    {
     "name": "stdout",
     "output_type": "stream",
     "text": [
      "<COMObject GetModule>\n"
     ]
    },
    {
     "ename": "com_error",
     "evalue": "(-2147352567, 'Exception occurred.', (0, None, None, None, 0, -2147024349), None)",
     "output_type": "error",
     "traceback": [
      "\u001b[1;31m---------------------------------------------------------------------------\u001b[0m",
      "\u001b[1;31mcom_error\u001b[0m                                 Traceback (most recent call last)",
      "\u001b[1;32md:\\andre\\cavity_sweeps\\NCap_LOM_sweep.ipynb Cell 4\u001b[0m line \u001b[0;36m1\n\u001b[1;32m----> <a href='vscode-notebook-cell:/d%3A/andre/cavity_sweeps/NCap_LOM_sweep.ipynb#W4sZmlsZQ%3D%3D?line=0'>1</a>\u001b[0m NCap_LOM_sweep(design, cplr_sweep_opts)\n",
      "File \u001b[1;32md:\\andre\\cavity_sweeps\\objects.py:133\u001b[0m, in \u001b[0;36mNCap_LOM_sweep\u001b[1;34m(design, sweep_opts)\u001b[0m\n\u001b[0;32m    129\u001b[0m loma\u001b[39m.\u001b[39msim\u001b[39m.\u001b[39msetup\u001b[39m.\u001b[39msolution_order \u001b[39m=\u001b[39m \u001b[39m'\u001b[39m\u001b[39mMedium\u001b[39m\u001b[39m'\u001b[39m\n\u001b[0;32m    131\u001b[0m loma\u001b[39m.\u001b[39msim\u001b[39m.\u001b[39msetup\u001b[39m.\u001b[39mname \u001b[39m=\u001b[39m \u001b[39m'\u001b[39m\u001b[39mlom_setup\u001b[39m\u001b[39m'\u001b[39m\n\u001b[1;32m--> 133\u001b[0m loma\u001b[39m.\u001b[39;49msim\u001b[39m.\u001b[39;49mrun(name \u001b[39m=\u001b[39;49m \u001b[39m'\u001b[39;49m\u001b[39mLOMv2.01\u001b[39;49m\u001b[39m'\u001b[39;49m, components\u001b[39m=\u001b[39;49m[coupler\u001b[39m.\u001b[39;49mname],\n\u001b[0;32m    134\u001b[0m open_terminations\u001b[39m=\u001b[39;49m[(coupler\u001b[39m.\u001b[39;49mname, pin_name) \u001b[39mfor\u001b[39;49;00m pin_name \u001b[39min\u001b[39;49;00m coupler\u001b[39m.\u001b[39;49mpin_names])\n\u001b[0;32m    135\u001b[0m cap_df \u001b[39m=\u001b[39m loma\u001b[39m.\u001b[39msim\u001b[39m.\u001b[39mcapacitance_matrix\n\u001b[0;32m    136\u001b[0m data \u001b[39m=\u001b[39m loma\u001b[39m.\u001b[39mget_data()\n",
      "File \u001b[1;32mc:\\users\\lfl\\qiskit-metal\\qiskit_metal\\analyses\\core\\simulation.py:203\u001b[0m, in \u001b[0;36mQSimulation.run\u001b[1;34m(self, *args, **kwargs)\u001b[0m\n\u001b[0;32m    199\u001b[0m \u001b[39mdef\u001b[39;00m \u001b[39mrun\u001b[39m(\u001b[39mself\u001b[39m, \u001b[39m*\u001b[39margs, \u001b[39m*\u001b[39m\u001b[39m*\u001b[39mkwargs):\n\u001b[0;32m    200\u001b[0m \u001b[39m    \u001b[39m\u001b[39m\"\"\"Alias for run_sim() necessary to implement super-class method, while\u001b[39;00m\n\u001b[0;32m    201\u001b[0m \u001b[39m    preventing method name collision when sim and non-sim QAnalysis classes are inherited.\u001b[39;00m\n\u001b[0;32m    202\u001b[0m \u001b[39m    \"\"\"\u001b[39;00m\n\u001b[1;32m--> 203\u001b[0m     \u001b[39mself\u001b[39;49m\u001b[39m.\u001b[39;49mrun_sim(\u001b[39m*\u001b[39;49margs, \u001b[39m*\u001b[39;49m\u001b[39m*\u001b[39;49mkwargs)\n",
      "File \u001b[1;32mc:\\users\\lfl\\qiskit-metal\\qiskit_metal\\analyses\\simulation\\lumped_elements.py:148\u001b[0m, in \u001b[0;36mLumpedElementsSim.run_sim\u001b[1;34m(self, name, components, open_terminations, box_plus_buffer)\u001b[0m\n\u001b[0;32m    139\u001b[0m     \u001b[39mself\u001b[39m\u001b[39m.\u001b[39m_initialize_renderer()\n\u001b[0;32m    141\u001b[0m renderer_design_name \u001b[39m=\u001b[39m \u001b[39mself\u001b[39m\u001b[39m.\u001b[39m_render(name\u001b[39m=\u001b[39mname,\n\u001b[0;32m    142\u001b[0m                                     solution_type\u001b[39m=\u001b[39m\u001b[39m'\u001b[39m\u001b[39mcapacitive\u001b[39m\u001b[39m'\u001b[39m,\n\u001b[0;32m    143\u001b[0m                                     selection\u001b[39m=\u001b[39mcomponents,\n\u001b[0;32m    144\u001b[0m                                     open_pins\u001b[39m=\u001b[39mopen_terminations,\n\u001b[0;32m    145\u001b[0m                                     box_plus_buffer\u001b[39m=\u001b[39mbox_plus_buffer,\n\u001b[0;32m    146\u001b[0m                                     vars_to_initialize\u001b[39m=\u001b[39mDict())\n\u001b[1;32m--> 148\u001b[0m \u001b[39mself\u001b[39;49m\u001b[39m.\u001b[39;49m_analyze()\n\u001b[0;32m    149\u001b[0m \u001b[39mreturn\u001b[39;00m renderer_design_name, \u001b[39mself\u001b[39m\u001b[39m.\u001b[39msim_setup_name\n",
      "File \u001b[1;32mc:\\users\\lfl\\qiskit-metal\\qiskit_metal\\analyses\\simulation\\lumped_elements.py:83\u001b[0m, in \u001b[0;36mLumpedElementsSim._analyze\u001b[1;34m(self)\u001b[0m\n\u001b[0;32m     81\u001b[0m \u001b[39m# pylint: disable=attribute-defined-outside-init\u001b[39;00m\n\u001b[0;32m     82\u001b[0m \u001b[39mself\u001b[39m\u001b[39m.\u001b[39msim_setup_name \u001b[39m=\u001b[39m \u001b[39mself\u001b[39m\u001b[39m.\u001b[39mrenderer\u001b[39m.\u001b[39minitialize_cap_extract(\u001b[39m*\u001b[39m\u001b[39m*\u001b[39m\u001b[39mself\u001b[39m\u001b[39m.\u001b[39msetup)\n\u001b[1;32m---> 83\u001b[0m \u001b[39mself\u001b[39;49m\u001b[39m.\u001b[39;49mrenderer\u001b[39m.\u001b[39;49manalyze_setup(\u001b[39mself\u001b[39;49m\u001b[39m.\u001b[39;49msim_setup_name)\n\u001b[0;32m     84\u001b[0m \u001b[39mself\u001b[39m\u001b[39m.\u001b[39m_get_results_from_renderer()\n",
      "File \u001b[1;32mc:\\users\\lfl\\qiskit-metal\\qiskit_metal\\renderers\\renderer_ansys\\q3d_renderer.py:386\u001b[0m, in \u001b[0;36mQQ3DRenderer.analyze_setup\u001b[1;34m(self, setup_name)\u001b[0m\n\u001b[0;32m    384\u001b[0m \u001b[39mif\u001b[39;00m \u001b[39mself\u001b[39m\u001b[39m.\u001b[39mpinfo:\n\u001b[0;32m    385\u001b[0m     setup \u001b[39m=\u001b[39m \u001b[39mself\u001b[39m\u001b[39m.\u001b[39mpinfo\u001b[39m.\u001b[39mget_setup(setup_name)\n\u001b[1;32m--> 386\u001b[0m     setup\u001b[39m.\u001b[39;49manalyze(setup_name)\n",
      "File \u001b[1;32mc:\\Users\\lfl\\.conda\\envs\\qiskit_metal\\Lib\\site-packages\\pyEPR\\ansys.py:1065\u001b[0m, in \u001b[0;36mHfssSetup.analyze\u001b[1;34m(self, name)\u001b[0m\n\u001b[0;32m   1063\u001b[0m     name \u001b[39m=\u001b[39m \u001b[39mself\u001b[39m\u001b[39m.\u001b[39mname\n\u001b[0;32m   1064\u001b[0m logger\u001b[39m.\u001b[39minfo(\u001b[39mf\u001b[39m\u001b[39m'\u001b[39m\u001b[39mAnalyzing setup \u001b[39m\u001b[39m{\u001b[39;00mname\u001b[39m}\u001b[39;00m\u001b[39m'\u001b[39m)\n\u001b[1;32m-> 1065\u001b[0m \u001b[39mreturn\u001b[39;00m \u001b[39mself\u001b[39;49m\u001b[39m.\u001b[39;49mparent\u001b[39m.\u001b[39;49m_design\u001b[39m.\u001b[39;49mAnalyze(name)\n",
      "File \u001b[1;32m<COMObject GetDesign>:2\u001b[0m, in \u001b[0;36mAnalyze\u001b[1;34m(self, simulationName)\u001b[0m\n",
      "\u001b[1;31mcom_error\u001b[0m: (-2147352567, 'Exception occurred.', (0, None, None, None, 0, -2147024349), None)"
     ]
    }
   ],
   "source": [
    "NCap_LOM_sweep(design, cplr_sweep_opts)"
   ]
  },
  {
   "cell_type": "code",
   "execution_count": null,
   "metadata": {},
   "outputs": [],
   "source": []
  }
 ],
 "metadata": {
  "kernelspec": {
   "display_name": "qiskit_metal",
   "language": "python",
   "name": "python3"
  },
  "language_info": {
   "codemirror_mode": {
    "name": "ipython",
    "version": 3
   },
   "file_extension": ".py",
   "mimetype": "text/x-python",
   "name": "python",
   "nbconvert_exporter": "python",
   "pygments_lexer": "ipython3",
   "version": "3.11.4"
  },
  "orig_nbformat": 4
 },
 "nbformat": 4,
 "nbformat_minor": 2
}
