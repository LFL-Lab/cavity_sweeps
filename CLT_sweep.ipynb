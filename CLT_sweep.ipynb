{
 "cells": [
  {
   "cell_type": "code",
   "execution_count": 1,
   "metadata": {},
   "outputs": [],
   "source": [
    "from utils import *\n",
    "from objects import *\n",
    "from sweeper_helperfunctions import *"
   ]
  },
  {
   "cell_type": "code",
   "execution_count": 2,
   "metadata": {},
   "outputs": [],
   "source": [
    "design = metal.designs.design_planar.DesignPlanar()\n",
    "gui = metal.MetalGUI(design)\n",
    "design.overwrite_enabled = True"
   ]
  },
  {
   "cell_type": "code",
   "execution_count": 3,
   "metadata": {},
   "outputs": [],
   "source": [
    "cpw_sweep_opts = Dict(\n",
    "                fillet = '49.9um',\n",
    "                total_length = \"2700um\",\n",
    "                trace_width = \"11.7um\",\n",
    "                trace_gap = '5.1um')"
   ]
  },
  {
   "cell_type": "code",
   "execution_count": 4,
   "metadata": {},
   "outputs": [],
   "source": [
    "claw_sweep_opts = dict(\n",
    "    connection_pads=dict(\n",
    "        readout = dict(connector_location = '90', \n",
    "                 connector_type = '0', \n",
    "                 claw_length = [f\"{70+i*10}um\" for i in range(39)],\n",
    "                 ground_spacing = '4.1um', \n",
    "                 claw_gap = '5.1um', \n",
    "                 claw_width = '15um',\n",
    "                 claw_cpw_width = \"11.7um\",\n",
    "                 claw_cpw_length = '0um'\n",
    "                 ),\n",
    "    ),\n",
    "    cross_width = '30um', # does not matter\n",
    "    cross_length = '240um',  # does not matter\n",
    "    cross_gap = '30um',  # does not matter\n",
    ")"
   ]
  },
  {
   "cell_type": "code",
   "execution_count": 5,
   "metadata": {},
   "outputs": [],
   "source": [
    "cplr_sweep_opts = Dict(prime_width = \"11.7um\",\n",
    "            prime_gap = '5.1um',\n",
    "            second_width = \"11.7um\",\n",
    "            second_gap = '5.1um',\n",
    "            coupling_space = '7.9um',\n",
    "            coupling_length = '200um',\n",
    "            open_termination = False,\n",
    "            down_length = '50um')"
   ]
  },
  {
   "cell_type": "code",
   "execution_count": 6,
   "metadata": {},
   "outputs": [],
   "source": [
    "sweep_opts = Dict(claw_opts = claw_sweep_opts, cpw_opts = cpw_sweep_opts, cplr_opts = cplr_sweep_opts)"
   ]
  },
  {
   "cell_type": "code",
   "execution_count": 7,
   "metadata": {},
   "outputs": [],
   "source": [
    "comps_available = {\n",
    "    # \"Sabrina\":0,\n",
    "    \"Glinda\":0,\n",
    "    \"Saruman\":1,\n",
    "    \"VM84\":2, #?\n",
    "    \"VM85\":3, #?\n",
    "}"
   ]
  },
  {
   "cell_type": "code",
   "execution_count": 8,
   "metadata": {},
   "outputs": [],
   "source": [
    "comp_id = \"Glinda\"  # Replace with actual computer name"
   ]
  },
  {
   "cell_type": "code",
   "execution_count": 9,
   "metadata": {},
   "outputs": [],
   "source": [
    "N = len(comps_available)  # Number of computers\n",
    "sweep_opts_chunks = chunk_sweep_options(sweep_opts, N)"
   ]
  },
  {
   "cell_type": "code",
   "execution_count": 10,
   "metadata": {},
   "outputs": [
    {
     "data": {
      "text/plain": [
       "{'claw_opts': {'connection_pads': {'readout': {'connector_location': '90',\n",
       "    'connector_type': '0',\n",
       "    'claw_length': ['70um',\n",
       "     '80um',\n",
       "     '90um',\n",
       "     '100um',\n",
       "     '110um',\n",
       "     '120um',\n",
       "     '130um',\n",
       "     '140um',\n",
       "     '150um',\n",
       "     '160um'],\n",
       "    'ground_spacing': '4.1um',\n",
       "    'claw_gap': '5.1um',\n",
       "    'claw_width': '15um',\n",
       "    'claw_cpw_width': '11.7um',\n",
       "    'claw_cpw_length': '0um'}}},\n",
       " 'cpw_opts': {'fillet': '49.9um',\n",
       "  'total_length': '2700um',\n",
       "  'trace_width': '11.7um',\n",
       "  'trace_gap': '5.1um'},\n",
       " 'cplr_opts': {'prime_width': '11.7um',\n",
       "  'prime_gap': '5.1um',\n",
       "  'second_width': '11.7um',\n",
       "  'second_gap': '5.1um',\n",
       "  'coupling_space': '7.9um',\n",
       "  'coupling_length': '200um',\n",
       "  'open_termination': False,\n",
       "  'down_length': '50um'}}"
      ]
     },
     "execution_count": 10,
     "metadata": {},
     "output_type": "execute_result"
    }
   ],
   "source": [
    "sweep_opts_deployed = sweep_opts_chunks[comps_available[comp_id]]  # Get the i-th chunk\n",
    "sweep_opts_deployed"
   ]
  },
  {
   "cell_type": "code",
   "execution_count": 11,
   "metadata": {},
   "outputs": [
    {
     "name": "stderr",
     "output_type": "stream",
     "text": [
      "INFO 01:22PM [connect_project]: Connecting to Ansys Desktop API...\n",
      "INFO 01:22PM [load_ansys_project]: \tOpened Ansys App\n",
      "INFO 01:22PM [load_ansys_project]: \tOpened Ansys Desktop v2021.1.0\n",
      "INFO 01:22PM [load_ansys_project]: \tOpened Ansys Project\n",
      "\tFolder:    D:/Users/lfl/Documents/Ansoft/\n",
      "\tProject:   fig4_39x_150khz_Glinda\n"
     ]
    },
    {
     "name": "stdout",
     "output_type": "stream",
     "text": [
      "Starting the Simulation\n"
     ]
    },
    {
     "name": "stderr",
     "output_type": "stream",
     "text": [
      "INFO 01:22PM [connect_design]: \tOpened active design\n",
      "\tDesign:    CLT__claw250um_Glinda_03122023_13.14.16_hfss [Solution type: Eigenmode]\n",
      "INFO 01:22PM [get_setup]: \tOpened setup `Setup`  (<class 'pyEPR.ansys.HfssEMSetup'>)\n",
      "INFO 01:22PM [connect]: \tConnected to project \"fig4_39x_150khz_Glinda\" and design \"CLT__claw250um_Glinda_03122023_13.14.16_hfss\" 😀 \n",
      "\n",
      "INFO 01:22PM [connect_design]: \tOpened active design\n",
      "\tDesign:    CLT__claw70um_Glinda_03122023_13.22.19 [Solution type: Eigenmode]\n",
      "WARNING 01:22PM [connect_setup]: \tNo design setup detected.\n",
      "WARNING 01:22PM [connect_setup]: \tCreating eigenmode default setup.\n",
      "INFO 01:22PM [get_setup]: \tOpened setup `Setup`  (<class 'pyEPR.ansys.HfssEMSetup'>)\n"
     ]
    }
   ],
   "source": [
    "CLT_epr_sweep(design, sweep_opts = sweep_opts_deployed, comp_name=comp_id)"
   ]
  },
  {
   "cell_type": "code",
   "execution_count": null,
   "metadata": {},
   "outputs": [],
   "source": []
  }
 ],
 "metadata": {
  "kernelspec": {
   "display_name": "Python 3",
   "language": "python",
   "name": "python3"
  },
  "language_info": {
   "codemirror_mode": {
    "name": "ipython",
    "version": 3
   },
   "file_extension": ".py",
   "mimetype": "text/x-python",
   "name": "python",
   "nbconvert_exporter": "python",
   "pygments_lexer": "ipython3",
   "version": "3.11.3"
  },
  "orig_nbformat": 4
 },
 "nbformat": 4,
 "nbformat_minor": 2
}
